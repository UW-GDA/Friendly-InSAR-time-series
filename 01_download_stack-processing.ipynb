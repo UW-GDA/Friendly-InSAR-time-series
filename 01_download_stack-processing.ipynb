{
 "cells": [
  {
   "cell_type": "markdown",
   "id": "559ba7da-360e-40af-b6f8-38c9443692e8",
   "metadata": {
    "tags": []
   },
   "source": [
    "# Download data and process interferogram stack\n",
    "George Brencher"
   ]
  },
  {
   "cell_type": "code",
   "execution_count": 1,
   "id": "973aa0a2-85da-4764-85d4-7c808452a829",
   "metadata": {},
   "outputs": [],
   "source": [
    "import os\n",
    "if not os.path.exists('/srv/conda/envs/isce2'):\n",
    "  %conda create -y -n isce2 --file conda-linux-64.lock"
   ]
  },
  {
   "cell_type": "code",
   "execution_count": 2,
   "id": "f9594b48-7544-4675-a744-b8e599232ede",
   "metadata": {},
   "outputs": [
    {
     "name": "stdout",
     "output_type": "stream",
     "text": [
      "Using default ISCE Path: /srv/conda/envs/isce2/lib/python3.9/site-packages/isce\n",
      "This is the Open Source version of ISCE.\n",
      "Some of the workflows depend on a separate licensed package.\n",
      "To obtain the licensed package, please make a request for ISCE\n",
      "through the website: https://download.jpl.nasa.gov/ops/request/index.cfm.\n",
      "Alternatively, if you are a member, or can become a member of WinSAR\n",
      "you may be able to obtain access to a version of the licensed sofware at\n",
      "https://winsar.unavco.org/software/isce\n",
      "/srv/conda/envs/notebook/bin:/srv/conda/condabin:/home/jovyan/.local/bin:/home/jovyan/.local/bin:/srv/conda/envs/notebook/bin:/srv/conda/bin:/srv/npm/bin:/usr/local/sbin:/usr/local/bin:/usr/sbin:/usr/bin:/sbin:/bin/srv/conda/envs/isce2/lib/python3.9/site-packages/isce/bin:/srv/conda/envs/isce2/lib/python3.9/site-packages/isce/applications/srv/conda/envs/isce2/lib/python3.9/site-packages/isce/bin:/srv/conda/envs/isce2/lib/python3.9/site-packages/isce/contrib/stack/topsStack\n"
     ]
    }
   ],
   "source": [
    "import isce\n",
    "\n",
    "# Set Environment variables so that you can call ISCE from the command line\n",
    "os.environ['ISCE_HOME'] = os.path.dirname(isce.__file__)\n",
    "os.environ['ISCE_ROOT'] = os.path.dirname(os.environ['ISCE_HOME'])\n",
    "os.environ['PATH']+='{ISCE_HOME}/bin:{ISCE_HOME}/applications'.format(**os.environ)\n",
    "os.environ['PATH']+='{ISCE_HOME}/bin:{ISCE_HOME}/contrib/stack/topsStack'.format(**os.environ)\n",
    "print(os.environ['PATH'])"
   ]
  },
  {
   "cell_type": "code",
   "execution_count": 4,
   "id": "d6ad9572-284b-41ae-be79-44699002a943",
   "metadata": {},
   "outputs": [],
   "source": [
    "!which stackSentinel.py"
   ]
  },
  {
   "cell_type": "code",
   "execution_count": null,
   "id": "2431f121-c367-463e-9bf7-af195bd465d5",
   "metadata": {},
   "outputs": [],
   "source": []
  }
 ],
 "metadata": {
  "kernelspec": {
   "display_name": "Python 3 (ipykernel)",
   "language": "python",
   "name": "python3"
  },
  "language_info": {
   "codemirror_mode": {
    "name": "ipython",
    "version": 3
   },
   "file_extension": ".py",
   "mimetype": "text/x-python",
   "name": "python",
   "nbconvert_exporter": "python",
   "pygments_lexer": "ipython3",
   "version": "3.9.7"
  }
 },
 "nbformat": 4,
 "nbformat_minor": 5
}
