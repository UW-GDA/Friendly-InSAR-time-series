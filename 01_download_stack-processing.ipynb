{
 "cells": [
  {
   "cell_type": "markdown",
   "id": "559ba7da-360e-40af-b6f8-38c9443692e8",
   "metadata": {
    "tags": []
   },
   "source": [
    "# Download data and process interferogram stack\n",
    "George Brencher"
   ]
  },
  {
   "cell_type": "markdown",
   "id": "d93e5c40-29c3-45ab-af5e-5b69d8adaf8b",
   "metadata": {},
   "source": [
    "## Create and configure environment"
   ]
  },
  {
   "cell_type": "code",
   "execution_count": null,
   "id": "973aa0a2-85da-4764-85d4-7c808452a829",
   "metadata": {
    "scrolled": true,
    "tags": []
   },
   "outputs": [],
   "source": [
    "#Skip if environment is already created. \n",
    "#!mamba env create -f environment.yml\n",
    "#!conda activate isce2\n",
    "#!python -m ipykernel install --user --name=isce2"
   ]
  },
  {
   "cell_type": "markdown",
   "id": "767e367b-8e4e-4503-a7ce-1b6737a4ec2e",
   "metadata": {},
   "source": [
    "Make sure kernel is set to 'Python [conda env:isce2]'"
   ]
  },
  {
   "cell_type": "code",
   "execution_count": null,
   "id": "527ce43b-3ede-4458-ad50-1771743ae65d",
   "metadata": {},
   "outputs": [],
   "source": [
    "# Note--if processing on headless server, need to run the following for the stack processor to work: \n",
    "!pip install opencv-python-headless"
   ]
  },
  {
   "cell_type": "code",
   "execution_count": null,
   "id": "5bf82e34-adcf-48af-acd1-18e161a52f29",
   "metadata": {
    "scrolled": true,
    "tags": []
   },
   "outputs": [],
   "source": [
    "# Import required packages\n",
    "import logging\n",
    "log = logging.getLogger()\n",
    "log.setLevel(logging.WARN)\n",
    "import os\n",
    "import getpass\n",
    "import asf_search as asf\n",
    "import isce\n",
    "from os import listdir\n",
    "import numpy as np\n",
    "import matplotlib.pyplot as plt\n",
    "import rasterio as rio\n",
    "import rasterio.plot\n",
    "from rasterio import logging\n",
    "from osgeo import gdal"
   ]
  },
  {
   "cell_type": "markdown",
   "id": "4865e979-a519-4205-be9d-a57d6d2b72c3",
   "metadata": {},
   "source": [
    "'topStack' is a Sentinel 1 interferogram stack processing workflow which has been contributed to isce. To get access to topsStack, which does not come with the conda install of ISCE, we need to clone isce2 from github. "
   ]
  },
  {
   "cell_type": "code",
   "execution_count": null,
   "id": "ed6a1ab1-81ac-49ff-81e6-01797e48b0cb",
   "metadata": {
    "tags": []
   },
   "outputs": [],
   "source": [
    "# skip if already cloned\n",
    "#!git clone https://github.com/isce-framework/isce2.git"
   ]
  },
  {
   "cell_type": "code",
   "execution_count": null,
   "id": "5a3ed2fd-c681-4a78-b437-d33ad0866945",
   "metadata": {},
   "outputs": [],
   "source": [
    "# Change to work directory \n",
    "os.chdir('/home/jovyan/Friendly-InSAR-time-series')"
   ]
  },
  {
   "cell_type": "code",
   "execution_count": null,
   "id": "f9594b48-7544-4675-a744-b8e599232ede",
   "metadata": {},
   "outputs": [],
   "source": [
    "# Set environment variables so that you can call ISCE from the command line\n",
    "os.environ['ISCE_HOME'] = os.path.dirname(isce.__file__)\n",
    "os.environ['ISCE_ROOT'] = os.path.dirname(os.environ['ISCE_HOME'])\n",
    "os.environ['PATH']+='{ISCE_HOME}/bin:{ISCE_HOME}/applications'.format(**os.environ)\n",
    "\n",
    "# Set path to topsStack workflow in ISCE source directory\n",
    "CWD = os.getcwd()\n",
    "os.environ['PATH']+=f':{CWD}/isce2/contrib/stack/topsStack'\n",
    "print(os.environ['PATH'])"
   ]
  },
  {
   "cell_type": "code",
   "execution_count": null,
   "id": "d6ad9572-284b-41ae-be79-44699002a943",
   "metadata": {},
   "outputs": [],
   "source": [
    "# Make sure stack processing scripts are in path\n",
    "!which stackSentinel.py"
   ]
  },
  {
   "cell_type": "code",
   "execution_count": null,
   "id": "f2d65a61-343e-4390-8827-d8a00869692e",
   "metadata": {},
   "outputs": [],
   "source": [
    "# Do downloads and processing in a temporary folder to avoid clogging the disk\n",
    "os.chdir('/tmp')"
   ]
  },
  {
   "cell_type": "code",
   "execution_count": null,
   "id": "68329253-45ea-4c05-8fcf-8dfe95731b39",
   "metadata": {},
   "outputs": [],
   "source": [
    "# make required directories\n",
    "dirs = ['/tmp/orbital', '/tmp/SLC', '/tmp/DEM', '/tmp/AUX']\n",
    "for i in dirs:\n",
    "    if not os.path.exists(i):\n",
    "        os.makedirs(i)\n",
    "\n",
    "listdir('/tmp')"
   ]
  },
  {
   "cell_type": "markdown",
   "id": "2efd90c9-57e4-4775-88cc-8cdc22e41dd8",
   "metadata": {},
   "source": [
    "## Download scenes"
   ]
  },
  {
   "cell_type": "code",
   "execution_count": null,
   "id": "33d18ac7-e129-4554-849f-5fabd6ac7e7b",
   "metadata": {},
   "outputs": [],
   "source": [
    "#check disk space prior to downloading SLCs\n",
    "!df -h"
   ]
  },
  {
   "cell_type": "code",
   "execution_count": null,
   "id": "7d9ecb40-87c4-4dfb-a5e7-b376d4157fbe",
   "metadata": {},
   "outputs": [],
   "source": [
    "# Change to SLC directory \n",
    "os.chdir('/tmp/SLC')"
   ]
  },
  {
   "cell_type": "code",
   "execution_count": null,
   "id": "c1141aa6-328d-4b16-a120-c2e3d52685c7",
   "metadata": {},
   "outputs": [],
   "source": [
    "# Update with NASA Earthdata login to download SLC data\n",
    "EARTHDATA_LOGIN = 'qbrencherUW'\n",
    "EARTHDATA_PASSWORD = getpass.getpass()\n",
    "\n",
    "# prevent DEBUG messages\n",
    "logging.getLogger('urllib3').setLevel(logging.WARNING)\n",
    "\n",
    "try:\n",
    "    user_pass_session = asf.ASFSession().auth_with_creds(EARTHDATA_LOGIN, EARTHDATA_PASSWORD)\n",
    "except asf.ASFAuthenticationError as e:\n",
    "    print(f'Auth failed: {e}')\n",
    "else:\n",
    "    print('Success!')"
   ]
  },
  {
   "cell_type": "code",
   "execution_count": null,
   "id": "7700fe8f-d5ca-4fab-84e3-49af20ab012f",
   "metadata": {},
   "outputs": [],
   "source": [
    "# Create a persistent .netrc file for downloading NASA datasets (ISCE retrieves SRTM by default)\n",
    "# https://wiki.earthdata.nasa.gov/display/EL/How+To+Access+Data+With+cURL+And+Wget\n",
    "!echo \"machine urs.earthdata.nasa.gov login {EARTHDATA_LOGIN} password {EARTHDATA_PASSWORD}\" > ~/.netrc\n",
    "!chmod 0600 ~/.netrc"
   ]
  },
  {
   "cell_type": "code",
   "execution_count": null,
   "id": "f72782ad-74d2-46ad-9ebe-e8f8200171df",
   "metadata": {},
   "outputs": [],
   "source": [
    "# Set bounding box (larger than processing extent by at least a degree) \n",
    "# Use southwest and northeast corner points of a box in [lat, lon] format\n",
    "# Must use integers\n",
    "\n",
    "# southwestern corner\n",
    "lower_left = [-2, -92]\n",
    "\n",
    "# northeastern corner\n",
    "upper_right = [0, -90]\n",
    "\n",
    "bbox = f'POLYGON(({lower_left[1]} {lower_left[0]}, {lower_left[1]} {upper_right[0]},{upper_right[1]} {upper_right[0]}, {upper_right[1]} {lower_left[0]}, {lower_left[1]} {lower_left[0]}))'"
   ]
  },
  {
   "cell_type": "code",
   "execution_count": null,
   "id": "28c21843-9f6f-4c06-b9aa-049d0d967faf",
   "metadata": {},
   "outputs": [],
   "source": [
    "# Set platform, season, start and end dates, flight direction, and processing level.\n",
    "# May want to include frame if aoi is in scene overlap area and disk space is limited\n",
    "opts = {'platform': asf.PLATFORM.SENTINEL1,\n",
    "        'season': '152,274',\n",
    "        'start': '2021-08-01T00:00:00Z', \n",
    "        'end': '2021-09-01T00:00:00Z', \n",
    "        'flightDirection': 'D',\n",
    "        'processingLevel': 'SLC',\n",
    "        'frame': 593\n",
    "       }"
   ]
  },
  {
   "cell_type": "code",
   "execution_count": null,
   "id": "87fd7356-3396-43a2-b7ae-1a283e4ff9cb",
   "metadata": {},
   "outputs": [],
   "source": [
    "# search for scenes\n",
    "results = asf.search(intersectsWith=bbox, **opts)\n",
    "print(f'{len(results)} scenes found')"
   ]
  },
  {
   "cell_type": "code",
   "execution_count": null,
   "id": "c1545649-6631-4f28-a113-899b68829b26",
   "metadata": {},
   "outputs": [],
   "source": [
    "# Download scenes \n",
    "#Each is ~4 GB\n",
    "results.download(path = '/tmp/SLC', session=user_pass_session)"
   ]
  },
  {
   "cell_type": "code",
   "execution_count": null,
   "id": "6a1b56fe-a3b2-40fc-8b14-153062ab8ac2",
   "metadata": {},
   "outputs": [],
   "source": [
    "# Create a list of zipped SLCs. Assume there are no other files with .zip extension in SLC directory\n",
    "tmp = listdir('/tmp/SLC')\n",
    "\n",
    "scenes = []\n",
    "for file in tmp:\n",
    "    if file[-4:]=='.zip':\n",
    "        scenes.append(file[:-4])\n",
    "        \n",
    "print(scenes)"
   ]
  },
  {
   "cell_type": "markdown",
   "id": "4534be79-1cd9-46fa-ade9-d72fba363818",
   "metadata": {},
   "source": [
    "## Download precise orbitals "
   ]
  },
  {
   "cell_type": "code",
   "execution_count": null,
   "id": "92c35aca-e8ec-4431-b145-cad293e3b7a9",
   "metadata": {},
   "outputs": [],
   "source": [
    "os.chdir('/tmp/orbital')"
   ]
  },
  {
   "cell_type": "code",
   "execution_count": null,
   "id": "7177e6af-b60a-49b1-89f4-92189306dcfc",
   "metadata": {},
   "outputs": [],
   "source": [
    "!which fetchOrbit.py"
   ]
  },
  {
   "cell_type": "code",
   "execution_count": null,
   "id": "6e442ce5-2d35-485f-b659-0319bcbf819c",
   "metadata": {},
   "outputs": [],
   "source": [
    "# grab orbital files with fetchOrbit.py\n",
    "for file in scenes:\n",
    "    os.system(f'fetchOrbit.py -i {file}')"
   ]
  },
  {
   "cell_type": "markdown",
   "id": "0f086a28-8ffe-41c5-b772-896fe6557556",
   "metadata": {
    "tags": []
   },
   "source": [
    "### Also download calibration auxliary file\n",
    "A calibration auxliary (AUX_CAL) file is used for antenna pattern correction to compensate the range phase offset of SAFE products with IPF verison 002.36 (mainly for images acquired before March 2015). "
   ]
  },
  {
   "cell_type": "code",
   "execution_count": null,
   "id": "3c90d68d-6d12-44f9-981c-dd3bde78d792",
   "metadata": {},
   "outputs": [],
   "source": [
    "os.chdir('/tmp/AUX')\n",
    "!wget https://qc.sentinel1.groupcls.com/product/S1A/AUX_CAL/2014/09/08/S1A_AUX_CAL_V20140908T000000_G20190626T100201.SAFE.TGZ"
   ]
  },
  {
   "cell_type": "markdown",
   "id": "2eb2eb77-10b0-4217-a894-1b68ba948e01",
   "metadata": {},
   "source": [
    "## Specify or download digital elevation file\n",
    "If using your own DEM, place it in the 'DEM' directory. Must be in WGS 84. Name your DEM 'demLat.......wgs84\n",
    "If you don't provide a DEM, dem.py can be used to automatically download SRTM. "
   ]
  },
  {
   "cell_type": "code",
   "execution_count": null,
   "id": "6efa51f2-77d2-4b03-b86a-5493a67411d4",
   "metadata": {
    "tags": []
   },
   "outputs": [],
   "source": [
    "os.chdir('/tmp/DEM')"
   ]
  },
  {
   "cell_type": "code",
   "execution_count": null,
   "id": "26e4c7d2-a38d-4677-9bd4-730f6f3ae40d",
   "metadata": {},
   "outputs": [],
   "source": [
    "# make sure dem.py is in path\n",
    "!which dem.py"
   ]
  },
  {
   "cell_type": "code",
   "execution_count": null,
   "id": "e8df67ff-77c1-404a-97e0-7bd35d925249",
   "metadata": {},
   "outputs": [],
   "source": [
    "# Examine bounding box\n",
    "print(f'lower left (southwest): {lower_left}, upper right (northwest): {upper_right}')"
   ]
  },
  {
   "cell_type": "code",
   "execution_count": null,
   "id": "02efb07e-5f04-4974-9418-f9253297db81",
   "metadata": {
    "scrolled": true,
    "tags": []
   },
   "outputs": [],
   "source": [
    "# Feed dem.py ingeter coordinates surrounding the aoi, using the following structure: south lat, north lat, west lon, east lon \n",
    "os.system(f'dem.py -a stitch -b {lower_left[0]} {upper_right[0]} {lower_left[1]} {upper_right[1]} -r -s 1 -c')\n",
    "!rm demLat*.dem demLat*.dem.xml demLat*.dem.vrt"
   ]
  },
  {
   "cell_type": "code",
   "execution_count": null,
   "id": "91a93604-2ecc-422d-8dc4-4e98fb9b348c",
   "metadata": {},
   "outputs": [],
   "source": [
    "listdir('/tmp/DEM')"
   ]
  },
  {
   "cell_type": "markdown",
   "id": "cff18dd7-bcaa-46ee-a1d6-d6cdfd7e71f1",
   "metadata": {},
   "source": [
    "## Stack processing "
   ]
  },
  {
   "cell_type": "code",
   "execution_count": null,
   "id": "d9a5bad6-7bde-4f38-b225-3169bfb30eaf",
   "metadata": {},
   "outputs": [],
   "source": [
    "os.chdir('/tmp')"
   ]
  },
  {
   "cell_type": "code",
   "execution_count": null,
   "id": "cb8642ee-8339-4de8-a2c7-60308050abad",
   "metadata": {
    "scrolled": true,
    "tags": []
   },
   "outputs": [],
   "source": [
    "# Look at options for stack processing\n",
    "\n",
    "!stackSentinel.py -h"
   ]
  },
  {
   "cell_type": "markdown",
   "id": "ec65b09f-aa90-429e-b14c-cbadbba6f4a4",
   "metadata": {},
   "source": [
    "Set some options for processing"
   ]
  },
  {
   "cell_type": "code",
   "execution_count": null,
   "id": "9a7b62e1-5392-495c-86e8-d3d24aa273cb",
   "metadata": {},
   "outputs": [],
   "source": [
    "# Set number of interferograms to be made per scene\n",
    "connections = 2\n",
    "\n",
    "# Set coherence threshold for interferogram pixels\n",
    "cfilter = 0.2\n",
    "\n",
    "# Set number of looks in range. Level 1 SLC resolution in range: 2.3 m\n",
    "rlooks = 9\n",
    "\n",
    "# Set number of looks in azimuth. Level 1 SLC resolution in azimuth: 14.1 m \n",
    "zlooks = 2\n",
    "\n",
    "# get DEM name\n",
    "files = listdir('/tmp/DEM/')\n",
    "\n",
    "for i in files:\n",
    "    if i[:6] == 'demLat' and i[-5:] == 'wgs84':\n",
    "        dem = i\n",
    "\n",
    "print(f'number of connections: {connections}')\n",
    "print(f'coherence threshold: {cfilter}')\n",
    "print(f'looks in range: {rlooks}')\n",
    "print(f'looks in azimuth: {zlooks}')\n",
    "print(f'DEM name: {dem}')"
   ]
  },
  {
   "cell_type": "code",
   "execution_count": null,
   "id": "0f8766dd-5801-4782-848e-23d371210875",
   "metadata": {
    "scrolled": true,
    "tags": []
   },
   "outputs": [],
   "source": [
    "# generate run files\n",
    "# Set processing aoi here: south limit, north limit, west limit, east limit\n",
    "!stackSentinel.py -s /tmp/SLC/ -o /tmp/orbital/ -a /tmp/AUX/ -d /tmp/DEM/$dem -r $rlooks -z $zlooks -c $connections -b '-0.6 -0.2 -91.8 -91.25' -f $cfilter"
   ]
  },
  {
   "cell_type": "code",
   "execution_count": null,
   "id": "9836967b-bd4c-4fb5-ae8a-1ef01f8f01ea",
   "metadata": {},
   "outputs": [],
   "source": [
    "os.chdir('/tmp/run_files')"
   ]
  },
  {
   "cell_type": "code",
   "execution_count": null,
   "id": "09b0803b-d909-4eb9-8663-dd419b92370d",
   "metadata": {},
   "outputs": [],
   "source": [
    "# For an in-depth explanation of processing steps, see: https://github.com/isce-framework/isce2/blob/main/contrib/stack/topsStack/README.md\n",
    "# and https://ieeexplore.ieee.org/abstract/document/7637021"
   ]
  },
  {
   "cell_type": "code",
   "execution_count": null,
   "id": "1c250b13-cff3-41b6-90bf-04a1616dc7be",
   "metadata": {
    "scrolled": true,
    "tags": []
   },
   "outputs": [],
   "source": [
    "%%time\n",
    "# 20-40 min for 3 scenes\n",
    "!sh run_01_unpack_topo_reference"
   ]
  },
  {
   "cell_type": "code",
   "execution_count": null,
   "id": "06ee1315-2f1a-477d-9154-92e913cde87d",
   "metadata": {},
   "outputs": [],
   "source": [
    "# Plot some burst geometry files\n",
    "os.chdir('/tmp/geom_reference/IW1')\n",
    "\n",
    "# Set which burst to look at \n",
    "burst = 2 \n",
    "geom_files = [f'hgt_0{burst}.rdr.vrt', f'incLocal_0{burst}.rdr.vrt', f'lat_0{burst}.rdr.vrt', f'lon_0{burst}.rdr.vrt', f'los_0{burst}.rdr.vrt', f'shadowMask_0{burst}.rdr.vrt']"
   ]
  },
  {
   "cell_type": "code",
   "execution_count": null,
   "id": "3eaf3a06-8eb0-474e-9d0f-03827c9e21ca",
   "metadata": {},
   "outputs": [],
   "source": [
    "log = logging.getLogger()\n",
    "log.setLevel(logging.WARN)\n",
    "\n",
    "for file in geom_files:\n",
    "    with rasterio.open(file) as src:\n",
    "        geom = src.read(1)\n",
    "\n",
    "    f, ax = plt.subplots(figsize=(15,5))\n",
    "    im0 = ax.imshow(geom);\n",
    "    f.colorbar(im0, ax=ax)\n",
    "    ax.set_title(f'{file}')\n",
    "    \n",
    "os.chdir('/tmp/run_files')"
   ]
  },
  {
   "cell_type": "code",
   "execution_count": null,
   "id": "b247f28b-1371-4448-be7d-c0ff08f22193",
   "metadata": {
    "scrolled": true,
    "tags": []
   },
   "outputs": [],
   "source": [
    "%%time\n",
    "# Fast step\n",
    "!sh run_02_unpack_secondary_slc"
   ]
  },
  {
   "cell_type": "code",
   "execution_count": null,
   "id": "0eb00a95-bb54-4608-b9c5-dbea5e4da6e3",
   "metadata": {
    "scrolled": true,
    "tags": []
   },
   "outputs": [],
   "source": [
    "%%time\n",
    "# Fast step\n",
    "!sh run_03_average_baseline"
   ]
  },
  {
   "cell_type": "code",
   "execution_count": null,
   "id": "aa19523b-7052-4880-825c-cdd0f3ab0fb1",
   "metadata": {
    "scrolled": true,
    "tags": []
   },
   "outputs": [],
   "source": [
    "%%time\n",
    "# Fast step\n",
    "!sh run_04_extract_burst_overlaps"
   ]
  },
  {
   "cell_type": "code",
   "execution_count": null,
   "id": "a6a5682c-668a-4144-a5d8-fa08fcd45117",
   "metadata": {
    "scrolled": true,
    "tags": []
   },
   "outputs": [],
   "source": [
    "%%time\n",
    "# ~2 min for 3 scenes\n",
    "!sh run_05_overlap_geo2rdr"
   ]
  },
  {
   "cell_type": "code",
   "execution_count": null,
   "id": "2e5317f5-ecdf-4a1e-8b67-f2fd15b9dcf1",
   "metadata": {
    "scrolled": true,
    "tags": []
   },
   "outputs": [],
   "source": [
    "%%time\n",
    "# ~8 min for 3 scenes\n",
    "!sh run_06_overlap_resample"
   ]
  },
  {
   "cell_type": "code",
   "execution_count": null,
   "id": "5adaef41-a0de-47de-bd67-3330f5c9a25f",
   "metadata": {
    "scrolled": true,
    "tags": []
   },
   "outputs": [],
   "source": [
    "%%time\n",
    "# ~13 min for 3 scenes\n",
    "!sh run_07_pairs_misreg"
   ]
  },
  {
   "cell_type": "code",
   "execution_count": null,
   "id": "283333c1-bbf6-48f0-b46b-69d19adcd2a5",
   "metadata": {
    "scrolled": true,
    "tags": []
   },
   "outputs": [],
   "source": [
    "%%time\n",
    "# Fast step\n",
    "!sh run_08_timeseries_misreg"
   ]
  },
  {
   "cell_type": "code",
   "execution_count": null,
   "id": "81d0796d-dc9a-4aa8-8c8d-ef2a455583ed",
   "metadata": {
    "scrolled": true,
    "tags": []
   },
   "outputs": [],
   "source": [
    "%%time\n",
    "# ~13 min for 3 scenes\n",
    "!sh run_09_fullBurst_geo2rdr"
   ]
  },
  {
   "cell_type": "code",
   "execution_count": null,
   "id": "a393eb77-498d-4168-9e9b-ace813d497a8",
   "metadata": {
    "scrolled": true,
    "tags": []
   },
   "outputs": [],
   "source": [
    "%%time\n",
    "# ~9 min for 3 scenes\n",
    "!sh run_10_fullBurst_resample"
   ]
  },
  {
   "cell_type": "code",
   "execution_count": null,
   "id": "e98d98b1-7bda-41e0-82f0-2149841ebe67",
   "metadata": {
    "scrolled": true,
    "tags": []
   },
   "outputs": [],
   "source": [
    "%%time\n",
    "# Fast step\n",
    "!sh run_11_extract_stack_valid_region"
   ]
  },
  {
   "cell_type": "code",
   "execution_count": null,
   "id": "21680009-f270-4359-a341-869f70d9854e",
   "metadata": {
    "scrolled": true,
    "tags": []
   },
   "outputs": [],
   "source": [
    "%%time\n",
    "# STEP CURRENTLY BROKEN\n",
    "# Fails to merge geometry files\n",
    "!sh run_12_merge_reference_secondary_slc"
   ]
  },
  {
   "cell_type": "code",
   "execution_count": null,
   "id": "ee5be075-a074-4cb6-b9a4-0830cf44c0f7",
   "metadata": {},
   "outputs": [],
   "source": [
    "# Plot merged geometry files\n",
    "####### CURRENTLY BROKEN, ISCE IS FAILING TO GENERATE MERGED GEOMETRY FILES ########\n",
    "os.chdir('/tmp/merged/geom_reference/')\n",
    " \n",
    "geom_files = ['hgt.rdr.vrt', 'incLocal.rdr.vrt', 'lat.rdr.vrt', 'lon.rdr.vrt', 'los.rdr.vrt', 'shadowMask.rdr.vrt']"
   ]
  },
  {
   "cell_type": "code",
   "execution_count": null,
   "id": "b58b9c7b-4795-4013-b5b8-c45e9762cc48",
   "metadata": {},
   "outputs": [],
   "source": [
    "#log = logging.getLogger()\n",
    "#log.setLevel(logging.WARN)\n",
    "\n",
    "for file in geom_files:\n",
    "   with rasterio.open(file) as src:\n",
    "    geom = src.read(1)\n",
    "\n",
    "    f, ax = plt.subplots(figsize=(15,5))\n",
    "    im0 = ax.imshow(geom);\n",
    "    f.colorbar(im0, ax=ax)\n",
    "    ax.set_title(f'{file}')\n",
    "    \n",
    "os.chdir('/tmp/run_files')"
   ]
  },
  {
   "cell_type": "code",
   "execution_count": null,
   "id": "dec35e02-d893-4134-8c1b-86c021691e66",
   "metadata": {
    "scrolled": true,
    "tags": []
   },
   "outputs": [],
   "source": [
    "%%time\n",
    "# ~3 min for 3 scenes\n",
    "!sh run_13_generate_burst_igram"
   ]
  },
  {
   "cell_type": "code",
   "execution_count": null,
   "id": "8ff8a2c3-004e-400d-bd49-89a8e3a51dd5",
   "metadata": {
    "scrolled": true,
    "tags": []
   },
   "outputs": [],
   "source": [
    "%%time\n",
    "# Fast step\n",
    "!sh run_14_merge_burst_igram"
   ]
  },
  {
   "cell_type": "code",
   "execution_count": null,
   "id": "437c3e3a-69be-4d7c-b09a-e4cfd3523826",
   "metadata": {
    "scrolled": true,
    "tags": []
   },
   "outputs": [],
   "source": [
    "%%time\n",
    "# ~7 min for 3 scenes\n",
    "!sh run_15_filter_coherence"
   ]
  },
  {
   "cell_type": "code",
   "execution_count": null,
   "id": "ff8affbd-e5e6-4523-b4a6-18d9c902b0b9",
   "metadata": {
    "scrolled": true,
    "tags": []
   },
   "outputs": [],
   "source": [
    "%%time\n",
    "# ~40 min to 1 hour+ for 3 scenes \n",
    "!sh run_16_unwrap"
   ]
  },
  {
   "cell_type": "markdown",
   "id": "d2a4f2b2-6ac7-467d-acab-60a958af39c2",
   "metadata": {},
   "source": [
    "## Sanity check: plotting results"
   ]
  },
  {
   "cell_type": "code",
   "execution_count": null,
   "id": "7bea521d-81ca-4693-855a-8286ba7c1cb6",
   "metadata": {},
   "outputs": [],
   "source": [
    "# change to /merged/interferograms, where merged interferograms live\n",
    "os.chdir('/tmp/merged/interferograms/')\n",
    "tmp = listdir('/tmp/merged/interferograms/')\n",
    "\n",
    "# create list of merged interferograms\n",
    "int_list = []\n",
    "for i in tmp:\n",
    "    if len(i) == 17 and i[8]=='_':\n",
    "        int_list.append(i)\n",
    "\n",
    "print(int_list)"
   ]
  },
  {
   "cell_type": "code",
   "execution_count": null,
   "id": "f1b3c0fd-0851-414d-a605-80423627d803",
   "metadata": {},
   "outputs": [],
   "source": [
    "# Here, only plotting one interferogram\n",
    "int_list=['20210802_20210814']"
   ]
  },
  {
   "cell_type": "code",
   "execution_count": null,
   "id": "4080cb5e-0712-4ee3-8cf3-e0da545648a2",
   "metadata": {},
   "outputs": [],
   "source": [
    "# Plot unwrapped interferograms\n",
    "log = logging.getLogger()\n",
    "log.setLevel(logging.WARN)\n",
    "\n",
    "# loop to plot all interferograms\n",
    "# INTERFEROGRAMS ARE NOT GEOCODED, so files will be upside down and backwards\n",
    "for i in int_list:\n",
    "    os.chdir(f'/tmp/merged/interferograms/{i}')\n",
    "    with rasterio.open('filt_fine.unw.vrt') as src:\n",
    "        amp = src.read(1)\n",
    "        phase = src.read(2)\n",
    "\n",
    "    f, ax = plt.subplots(1, 2, figsize=(15, 5))\n",
    "    im0 = ax[0].imshow(np.log(amp), vmin=0);\n",
    "    f.colorbar(im0, ax=ax[0])\n",
    "    ax[0].set_title(f'{i} amplitude')\n",
    "    ax[0].set_ylim(1500, 2700)\n",
    "    ax[0].set_xlim(1700, 3000)\n",
    "    \n",
    "    \n",
    "    im1 = ax[1].imshow(phase+17, cmap ='RdBu', vmin=-15, vmax=15)\n",
    "    f.colorbar(im1, ax=ax[1])\n",
    "    ax[1].set_title(f'{i} unwrapped phase')\n",
    "    ax[1].set_ylim(1500, 2700)\n",
    "    ax[1].set_xlim(1700, 3000)\n",
    "    \n",
    "    f.set_tight_layout(True)"
   ]
  },
  {
   "cell_type": "code",
   "execution_count": null,
   "id": "97b43a6d-5660-47e8-94a2-ecb589718c81",
   "metadata": {},
   "outputs": [],
   "source": [
    "# Plot coherence\n",
    "for i in int_list:\n",
    "    os.chdir(f'/tmp/merged/interferograms/{i}')\n",
    "    with rasterio.open('fine.cor.vrt') as src:\n",
    "        coherence = src.read(2)\n",
    "\n",
    "    fig, ax = plt.subplots(figsize=(8,5))\n",
    "    im0 = ax.imshow(coherence);\n",
    "    f.colorbar(im0, ax=ax)\n",
    "    ax.set_title(f'{i} coherence')\n",
    "    ax.set_ylim(1500, 2700)\n",
    "    ax.set_xlim(1700, 3000)"
   ]
  }
 ],
 "metadata": {
  "kernelspec": {
   "display_name": "isce2",
   "language": "python",
   "name": "isce2"
  },
  "language_info": {
   "codemirror_mode": {
    "name": "ipython",
    "version": 3
   },
   "file_extension": ".py",
   "mimetype": "text/x-python",
   "name": "python",
   "nbconvert_exporter": "python",
   "pygments_lexer": "ipython3",
   "version": "3.8.13"
  }
 },
 "nbformat": 4,
 "nbformat_minor": 5
}
