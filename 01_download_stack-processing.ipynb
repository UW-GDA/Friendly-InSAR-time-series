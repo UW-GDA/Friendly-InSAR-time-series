{
 "cells": [
  {
   "cell_type": "markdown",
   "id": "559ba7da-360e-40af-b6f8-38c9443692e8",
   "metadata": {
    "tags": []
   },
   "source": [
    "# Download data and process interferogram stack\n",
    "George Brencher"
   ]
  },
  {
   "cell_type": "markdown",
   "id": "d93e5c40-29c3-45ab-af5e-5b69d8adaf8b",
   "metadata": {},
   "source": [
    "## Create and configure environment"
   ]
  },
  {
   "cell_type": "code",
   "execution_count": 1,
   "id": "973aa0a2-85da-4764-85d4-7c808452a829",
   "metadata": {},
   "outputs": [],
   "source": [
    "import os\n",
    "if not os.path.exists('/srv/conda/envs/isce2'):\n",
    "    !mamba create -n isce2 --file https://github.com/UW-GDA/Friendly-InSAR-time-series/blob/main/conda-linux-64.lock\n",
    "    !conda activate isce2\n",
    "    !python -m ipykernel install --user --name=isce2"
   ]
  },
  {
   "cell_type": "code",
   "execution_count": null,
   "id": "527ce43b-3ede-4458-ad50-1771743ae65d",
   "metadata": {},
   "outputs": [],
   "source": [
    "# Note--if processing on headless server, need to run the following for the stack processor to work: \n",
    "# pip install opencv-python-headless"
   ]
  },
  {
   "cell_type": "markdown",
   "id": "4865e979-a519-4205-be9d-a57d6d2b72c3",
   "metadata": {},
   "source": [
    "Make sure kernel is set to 'isce2' or 'Python [conda env:isce2]'\n",
    "\n",
    "'topStack' is a Sentinel 1 interferogram stack processing workflow which has been contributed to isce. To get access to topsStack, which does not come with the conda install of isce, we need to clone isce2 from github. "
   ]
  },
  {
   "cell_type": "code",
   "execution_count": 2,
   "id": "ed6a1ab1-81ac-49ff-81e6-01797e48b0cb",
   "metadata": {},
   "outputs": [],
   "source": [
    "#!git clone https://github.com/isce-framework/isce2.git"
   ]
  },
  {
   "cell_type": "code",
   "execution_count": 3,
   "id": "f9594b48-7544-4675-a744-b8e599232ede",
   "metadata": {},
   "outputs": [
    {
     "name": "stdout",
     "output_type": "stream",
     "text": [
      "This is the Open Source version of ISCE.\n",
      "Some of the workflows depend on a separate licensed package.\n",
      "To obtain the licensed package, please make a request for ISCE\n",
      "through the website: https://download.jpl.nasa.gov/ops/request/index.cfm.\n",
      "Alternatively, if you are a member, or can become a member of WinSAR\n",
      "you may be able to obtain access to a version of the licensed sofware at\n",
      "https://winsar.unavco.org/software/isce\n",
      "/srv/conda/envs/isce2/bin:/srv/conda/condabin:/srv/conda/bin:/usr/local/sbin:/usr/local/bin:/usr/sbin:/usr/bin:/sbin:/bin/srv/conda/envs/isce2/lib/python3.9/site-packages/isce/bin:/srv/conda/envs/isce2/lib/python3.9/site-packages/isce/applications:/home/jovyan/Friendly-InSAR-time-series/isce2/contrib/stack/topsStack\n"
     ]
    }
   ],
   "source": [
    "import isce\n",
    "\n",
    "# Set Environment variables so that you can call ISCE from the command line\n",
    "os.environ['ISCE_HOME'] = os.path.dirname(isce.__file__)\n",
    "os.environ['ISCE_ROOT'] = os.path.dirname(os.environ['ISCE_HOME'])\n",
    "os.environ['PATH']+='{ISCE_HOME}/bin:{ISCE_HOME}/applications'.format(**os.environ)\n",
    "\n",
    "# Set path to topsStack workflow in isce source directory\n",
    "CWD = os.getcwd()\n",
    "os.environ['PATH']+=f':{CWD}/isce2/contrib/stack/topsStack'\n",
    "print(os.environ['PATH'])"
   ]
  },
  {
   "cell_type": "code",
   "execution_count": 4,
   "id": "d6ad9572-284b-41ae-be79-44699002a943",
   "metadata": {},
   "outputs": [
    {
     "name": "stdout",
     "output_type": "stream",
     "text": [
      "/home/jovyan/Friendly-InSAR-time-series/isce2/contrib/stack/topsStack/stackSentinel.py\n"
     ]
    }
   ],
   "source": [
    "# Make sure stack processing scripts are in path\n",
    "!which stackSentinel.py"
   ]
  },
  {
   "cell_type": "code",
   "execution_count": 38,
   "id": "f2d65a61-343e-4390-8827-d8a00869692e",
   "metadata": {},
   "outputs": [
    {
     "ename": "FileExistsError",
     "evalue": "[Errno 17] File exists: 'orbital'",
     "output_type": "error",
     "traceback": [
      "\u001b[0;31m---------------------------------------------------------------------------\u001b[0m",
      "\u001b[0;31mFileExistsError\u001b[0m                           Traceback (most recent call last)",
      "Input \u001b[0;32mIn [38]\u001b[0m, in \u001b[0;36m<module>\u001b[0;34m\u001b[0m\n\u001b[1;32m      1\u001b[0m \u001b[38;5;66;03m# Do downloads and processing in a temporary folder to avoid clogging the disk\u001b[39;00m\n\u001b[1;32m      2\u001b[0m os\u001b[38;5;241m.\u001b[39mchdir(\u001b[38;5;124m'\u001b[39m\u001b[38;5;124m/tmp\u001b[39m\u001b[38;5;124m'\u001b[39m)\n\u001b[0;32m----> 3\u001b[0m \u001b[43mos\u001b[49m\u001b[38;5;241;43m.\u001b[39;49m\u001b[43mmakedirs\u001b[49m\u001b[43m(\u001b[49m\u001b[38;5;124;43m'\u001b[39;49m\u001b[38;5;124;43morbital\u001b[39;49m\u001b[38;5;124;43m'\u001b[39;49m\u001b[43m)\u001b[49m\n\u001b[1;32m      4\u001b[0m os\u001b[38;5;241m.\u001b[39mmakedirs(\u001b[38;5;124m'\u001b[39m\u001b[38;5;124mSLC\u001b[39m\u001b[38;5;124m'\u001b[39m)\n\u001b[1;32m      5\u001b[0m os\u001b[38;5;241m.\u001b[39mmakedirs(\u001b[38;5;124m'\u001b[39m\u001b[38;5;124mDEM\u001b[39m\u001b[38;5;124m'\u001b[39m)\n",
      "File \u001b[0;32m/srv/conda/envs/isce2/lib/python3.9/os.py:225\u001b[0m, in \u001b[0;36mmakedirs\u001b[0;34m(name, mode, exist_ok)\u001b[0m\n\u001b[1;32m    223\u001b[0m         \u001b[38;5;28;01mreturn\u001b[39;00m\n\u001b[1;32m    224\u001b[0m \u001b[38;5;28;01mtry\u001b[39;00m:\n\u001b[0;32m--> 225\u001b[0m     \u001b[43mmkdir\u001b[49m\u001b[43m(\u001b[49m\u001b[43mname\u001b[49m\u001b[43m,\u001b[49m\u001b[43m \u001b[49m\u001b[43mmode\u001b[49m\u001b[43m)\u001b[49m\n\u001b[1;32m    226\u001b[0m \u001b[38;5;28;01mexcept\u001b[39;00m \u001b[38;5;167;01mOSError\u001b[39;00m:\n\u001b[1;32m    227\u001b[0m     \u001b[38;5;66;03m# Cannot rely on checking for EEXIST, since the operating system\u001b[39;00m\n\u001b[1;32m    228\u001b[0m     \u001b[38;5;66;03m# could give priority to other errors like EACCES or EROFS\u001b[39;00m\n\u001b[1;32m    229\u001b[0m     \u001b[38;5;28;01mif\u001b[39;00m \u001b[38;5;129;01mnot\u001b[39;00m exist_ok \u001b[38;5;129;01mor\u001b[39;00m \u001b[38;5;129;01mnot\u001b[39;00m path\u001b[38;5;241m.\u001b[39misdir(name):\n",
      "\u001b[0;31mFileExistsError\u001b[0m: [Errno 17] File exists: 'orbital'"
     ]
    }
   ],
   "source": [
    "# Do downloads and processing in a temporary folder to avoid clogging the disk\n",
    "os.chdir('/tmp')\n",
    "os.makedirs('orbital')\n",
    "os.makedirs('SLC')\n",
    "os.makedirs('DEM')\n",
    "os.makedirs('AUX')"
   ]
  },
  {
   "cell_type": "markdown",
   "id": "2efd90c9-57e4-4775-88cc-8cdc22e41dd8",
   "metadata": {},
   "source": [
    "## Download scenes"
   ]
  },
  {
   "cell_type": "code",
   "execution_count": 6,
   "id": "33d18ac7-e129-4554-849f-5fabd6ac7e7b",
   "metadata": {},
   "outputs": [
    {
     "name": "stdout",
     "output_type": "stream",
     "text": [
      "Filesystem      Size  Used Avail Use% Mounted on\n",
      "/dev/sdd         15G  206M   15G   2% /home/jovyan\n"
     ]
    }
   ],
   "source": [
    "#check disk space prior to downloading SLCs\n",
    "!df -h ~"
   ]
  },
  {
   "cell_type": "code",
   "execution_count": 32,
   "id": "7d9ecb40-87c4-4dfb-a5e7-b376d4157fbe",
   "metadata": {},
   "outputs": [],
   "source": [
    "os.chdir('/tmp/SLC')"
   ]
  },
  {
   "cell_type": "code",
   "execution_count": 7,
   "id": "c1141aa6-328d-4b16-a120-c2e3d52685c7",
   "metadata": {},
   "outputs": [
    {
     "name": "stdin",
     "output_type": "stream",
     "text": [
      " ········\n"
     ]
    },
    {
     "name": "stdout",
     "output_type": "stream",
     "text": [
      "Success!\n"
     ]
    }
   ],
   "source": [
    "import getpass\n",
    "import asf_search as asf\n",
    "import logging\n",
    "\n",
    "# Update this with your NASA Earthdata login to download SLC data\n",
    "EARTHDATA_LOGIN = \"qbrencherUW\"\n",
    "EARTHDATA_PASSWORD = getpass.getpass()\n",
    "\n",
    "# prevent DEBUG messages\n",
    "logging.getLogger(\"urllib3\").setLevel(logging.WARNING)\n",
    "\n",
    "try:\n",
    "    user_pass_session = asf.ASFSession().auth_with_creds(EARTHDATA_LOGIN, EARTHDATA_PASSWORD)\n",
    "except asf.ASFAuthenticationError as e:\n",
    "    print(f'Auth failed: {e}')\n",
    "else:\n",
    "    print('Success!')"
   ]
  },
  {
   "cell_type": "code",
   "execution_count": 8,
   "id": "7700fe8f-d5ca-4fab-84e3-49af20ab012f",
   "metadata": {},
   "outputs": [],
   "source": [
    "# Create a persistent .netrc file for downloading NASA datasets (ISCE retrieves SRTM by default)\n",
    "# https://wiki.earthdata.nasa.gov/display/EL/How+To+Access+Data+With+cURL+And+Wget\n",
    "!echo \"machine urs.earthdata.nasa.gov login {EARTHDATA_LOGIN} password {EARTHDATA_PASSWORD}\" > ~/.netrc\n",
    "!chmod 0600 ~/.netrc"
   ]
  },
  {
   "cell_type": "code",
   "execution_count": 9,
   "id": "f72782ad-74d2-46ad-9ebe-e8f8200171df",
   "metadata": {},
   "outputs": [],
   "source": [
    "# Set area of interest with two corner points of a box [lat, lon]\n",
    "\n",
    "# southwestern corner\n",
    "lower_left = [27.875165, 86.892988]\n",
    "\n",
    "# northeastern corner\n",
    "upper_right = [27.918111, 86.949540]\n",
    "\n",
    "aoi = f'POLYGON(({lower_left[1]} {lower_left[0]}, {lower_left[1]} {upper_right[0]}, {upper_right[1]} {upper_right[0]}, {upper_right[1]} {lower_left[0]}, {lower_left[1]} {lower_left[0]}))'"
   ]
  },
  {
   "cell_type": "code",
   "execution_count": 10,
   "id": "28c21843-9f6f-4c06-b9aa-049d0d967faf",
   "metadata": {},
   "outputs": [],
   "source": [
    "# Set platform, start and end dates, flight direction, and processing level\n",
    "opts = {'platform': asf.PLATFORM.SENTINEL1, \n",
    "        'start': '2021-08-01T00:00:00Z', \n",
    "        'end': '2021-09-01T00:00:00Z', \n",
    "        'flightDirection': 'A',\n",
    "        'processingLevel': 'SLC',\n",
    "        'frame': 84}"
   ]
  },
  {
   "cell_type": "code",
   "execution_count": 11,
   "id": "87fd7356-3396-43a2-b7ae-1a283e4ff9cb",
   "metadata": {},
   "outputs": [
    {
     "name": "stdout",
     "output_type": "stream",
     "text": [
      "3 scenes found\n"
     ]
    }
   ],
   "source": [
    "# search for scenes\n",
    "results = asf.geo_search(intersectsWith=aoi, **opts)\n",
    "print(f'{len(results)} scenes found')"
   ]
  },
  {
   "cell_type": "code",
   "execution_count": 12,
   "id": "c1545649-6631-4f28-a113-899b68829b26",
   "metadata": {},
   "outputs": [
    {
     "name": "stderr",
     "output_type": "stream",
     "text": [
      "UsageError: Line magic function `%%time` not found.\n"
     ]
    }
   ],
   "source": [
    "# Download scenes\n",
    "%%time \n",
    "\n",
    "#Each scene is ~4 GB\n",
    "results.download(path = '/tmp', session=user_pass_session)"
   ]
  },
  {
   "cell_type": "code",
   "execution_count": 33,
   "id": "6a1b56fe-a3b2-40fc-8b14-153062ab8ac2",
   "metadata": {},
   "outputs": [
    {
     "name": "stdout",
     "output_type": "stream",
     "text": [
      "['S1A_IW_SLC__1SDV_20210830T121356_20210830T121423_039459_04A972_A57E', 'S1A_IW_SLC__1SDV_20210818T121355_20210818T121422_039284_04A383_54D5', 'S1A_IW_SLC__1SDV_20210806T121354_20210806T121421_039109_049D70_B0A0']\n"
     ]
    }
   ],
   "source": [
    "# Create a list of zipped SLCs. Assume there are no other files with .zip extension in tmp/SLC\n",
    "from os import listdir\n",
    "\n",
    "tmp = listdir('/tmp/SLC')\n",
    "\n",
    "scenes = []\n",
    "for file in tmp:\n",
    "    if file[-4:]=='.zip':\n",
    "        scenes.append(file[:-4])\n",
    "        \n",
    "print(scenes)"
   ]
  },
  {
   "cell_type": "markdown",
   "id": "4534be79-1cd9-46fa-ade9-d72fba363818",
   "metadata": {},
   "source": [
    "## Download precise orbitals "
   ]
  },
  {
   "cell_type": "code",
   "execution_count": 29,
   "id": "92c35aca-e8ec-4431-b145-cad293e3b7a9",
   "metadata": {},
   "outputs": [],
   "source": [
    "os.chdir('/tmp/orbital')"
   ]
  },
  {
   "cell_type": "code",
   "execution_count": 14,
   "id": "eac6f4a8-b656-4de7-acd0-22361ba2e59a",
   "metadata": {},
   "outputs": [
    {
     "name": "stderr",
     "output_type": "stream",
     "text": [
      "--2022-03-05 18:49:04--  https://raw.githubusercontent.com/isce-framework/isce2/main/contrib/stack/topsStack/fetchOrbit.py\n",
      "Resolving raw.githubusercontent.com (raw.githubusercontent.com)... 185.199.111.133, 185.199.110.133, 185.199.109.133, ...\n",
      "Connecting to raw.githubusercontent.com (raw.githubusercontent.com)|185.199.111.133|:443... connected.\n",
      "HTTP request sent, awaiting response... 200 OK\n",
      "Length: 5054 (4.9K) [text/plain]\n",
      "Saving to: ‘fetchOrbit.py’\n",
      "\n",
      "     0K ....                                                  100% 51.8M=0s\n",
      "\n",
      "2022-03-05 18:49:04 (51.8 MB/s) - ‘fetchOrbit.py’ saved [5054/5054]\n",
      "\n"
     ]
    }
   ],
   "source": [
    "%%bash\n",
    "\n",
    "wget -nc https://raw.githubusercontent.com/isce-framework/isce2/main/contrib/stack/topsStack/fetchOrbit.py\n",
    "chmod +x fetchOrbit.py"
   ]
  },
  {
   "cell_type": "code",
   "execution_count": 15,
   "id": "6e442ce5-2d35-485f-b659-0319bcbf819c",
   "metadata": {},
   "outputs": [
    {
     "name": "stdout",
     "output_type": "stream",
     "text": [
      "Reference time:  2021-08-30 12:14:23\n",
      "Satellite name:  S1A\n",
      "Downloading URL:  https://scihub.copernicus.eu/gnss/odata/v1/Products('a45e56e8-aa2d-427b-b0cd-55bdb9a0ec72')/$value\n",
      "Reference time:  2021-08-18 12:14:22\n",
      "Satellite name:  S1A\n",
      "Downloading URL:  https://scihub.copernicus.eu/gnss/odata/v1/Products('c5b46570-0423-4f01-aa55-fc3aa3dc1ade')/$value\n",
      "Reference time:  2021-08-06 12:14:21\n",
      "Satellite name:  S1A\n",
      "Downloading URL:  https://scihub.copernicus.eu/gnss/odata/v1/Products('ef934909-47c3-471c-90f9-fa52cda17128')/$value\n"
     ]
    }
   ],
   "source": [
    "for file in scenes:\n",
    "    os.system(f'./fetchOrbit.py -i {file}')"
   ]
  },
  {
   "cell_type": "markdown",
   "id": "0f086a28-8ffe-41c5-b772-896fe6557556",
   "metadata": {
    "tags": []
   },
   "source": [
    "### Also download calibration auxliary file\n",
    "A calibration auxliary (AUX_CAL) file is used for antenna pattern correction to compensate the range phase offset of SAFE products with IPF verison 002.36 (mainly for images acquired before March 2015). "
   ]
  },
  {
   "cell_type": "code",
   "execution_count": 39,
   "id": "3c90d68d-6d12-44f9-981c-dd3bde78d792",
   "metadata": {},
   "outputs": [
    {
     "name": "stdout",
     "output_type": "stream",
     "text": [
      "--2022-03-05 19:24:40--  https://qc.sentinel1.groupcls.com/product/S1A/AUX_CAL/2014/09/08/S1A_AUX_CAL_V20140908T000000_G20190626T100201.SAFE.TGZ\n",
      "Resolving qc.sentinel1.groupcls.com (qc.sentinel1.groupcls.com)... 20.74.8.22\n",
      "Connecting to qc.sentinel1.groupcls.com (qc.sentinel1.groupcls.com)|20.74.8.22|:443... connected.\n",
      "HTTP request sent, awaiting response... 200 OK\n",
      "Length: 494159 (483K)\n",
      "Saving to: ‘S1A_AUX_CAL_V20140908T000000_G20190626T100201.SAFE.TGZ’\n",
      "\n",
      "S1A_AUX_CAL_V201409 100%[===================>] 482.58K  --.-KB/s    in 0.04s   \n",
      "\n",
      "2022-03-05 19:24:40 (10.6 MB/s) - ‘S1A_AUX_CAL_V20140908T000000_G20190626T100201.SAFE.TGZ’ saved [494159/494159]\n",
      "\n"
     ]
    }
   ],
   "source": [
    "os.chdir('/tmp/AUX')\n",
    "!wget https://qc.sentinel1.groupcls.com/product/S1A/AUX_CAL/2014/09/08/S1A_AUX_CAL_V20140908T000000_G20190626T100201.SAFE.TGZ"
   ]
  },
  {
   "cell_type": "markdown",
   "id": "2eb2eb77-10b0-4217-a894-1b68ba948e01",
   "metadata": {},
   "source": [
    "## Specify or download digital elevation file"
   ]
  },
  {
   "cell_type": "code",
   "execution_count": 35,
   "id": "6efa51f2-77d2-4b03-b86a-5493a67411d4",
   "metadata": {},
   "outputs": [],
   "source": [
    "os.chdir('/tmp/DEM')"
   ]
  },
  {
   "cell_type": "code",
   "execution_count": 16,
   "id": "26e4c7d2-a38d-4677-9bd4-730f6f3ae40d",
   "metadata": {},
   "outputs": [
    {
     "name": "stdout",
     "output_type": "stream",
     "text": [
      "/srv/conda/envs/isce2/lib/python3.9/site-packages/isce/applications/dem.py\n"
     ]
    }
   ],
   "source": [
    "!which dem.py"
   ]
  },
  {
   "cell_type": "code",
   "execution_count": 41,
   "id": "e8df67ff-77c1-404a-97e0-7bd35d925249",
   "metadata": {},
   "outputs": [
    {
     "name": "stdout",
     "output_type": "stream",
     "text": [
      "lower left (southwest): [27.875165, 86.892988], upper right (northwest): [27.918111, 86.94954]\n"
     ]
    }
   ],
   "source": [
    "print(f'lower left (southwest): {lower_left}, upper right (northwest): {upper_right}')"
   ]
  },
  {
   "cell_type": "code",
   "execution_count": 37,
   "id": "02efb07e-5f04-4974-9418-f9253297db81",
   "metadata": {},
   "outputs": [
    {
     "name": "stdout",
     "output_type": "stream",
     "text": [
      "This is the Open Source version of ISCE.\n",
      "Some of the workflows depend on a separate licensed package.\n",
      "To obtain the licensed package, please make a request for ISCE\n",
      "through the website: https://download.jpl.nasa.gov/ops/request/index.cfm.\n",
      "Alternatively, if you are a member, or can become a member of WinSAR\n",
      "you may be able to obtain access to a version of the licensed sofware at\n",
      "https://winsar.unavco.org/software/isce\n",
      "curl -n  -L -c $HOME/.earthdatacookie -b $HOME/.earthdatacookie -k -f -O http://e4ftl01.cr.usgs.gov/MEASURES/SRTMGL1.003/2000.02.11/N27E086.SRTMGL1.hgt.zip\n",
      "  % Total    % Received % Xferd  Average Speed   Time    Time     Time  Current\n",
      "                                 Dload  Upload   Total   Spent    Left  Speed\n",
      "100   267  100   267    0     0   1091      0 --:--:-- --:--:-- --:--:--  1094\n",
      "100 18.1M  100 18.1M    0     0   744k      0  0:00:25  0:00:25 --:--:-- 5529k\n",
      "API open (R): ./demLat_N27_N28_Lon_E086_E087.dem\n",
      "API close:  ./demLat_N27_N28_Lon_E086_E087.dem\n",
      "Writing geotrans to VRT for ./demLat_N27_N28_Lon_E086_E087.dem\n",
      "GDAL open (R): ./demLat_N27_N28_Lon_E086_E087.dem.vrt\n",
      "API open (WR): demLat_N27_N28_Lon_E086_E087.dem.wgs84\n",
      "\n",
      "    << Geoid Correction I2 SRTM>>\n",
      "\n",
      "Jet Propulsion Laboratory - Radar Science and Engineering\n",
      "\n",
      "\n",
      "Sampling Geoid at grid points -  Longitude Samples:    13 Latitude Lines:    13\n",
      "Corner Geoid Heights (m) =  -52.21 -60.93 -30.96 -28.31\n",
      "\n",
      "Correcting data to geoid height...\n",
      "\n",
      "At line:      512\n",
      "At line:     1024\n",
      "At line:     1536\n",
      "At line:     2048\n",
      "At line:     2560\n",
      "At line:     3072\n",
      "At line:     3584\n",
      "GDAL close: ./demLat_N27_N28_Lon_E086_E087.dem.vrt\n",
      "API close:  demLat_N27_N28_Lon_E086_E087.dem.wgs84\n",
      "API open (R): demLat_N27_N28_Lon_E086_E087.dem.wgs84\n",
      "API close:  demLat_N27_N28_Lon_E086_E087.dem.wgs84\n",
      "Writing geotrans to VRT for demLat_N27_N28_Lon_E086_E087.dem.wgs84\n",
      "Writing geotrans to VRT for /tmp/DEM/demLat_N27_N28_Lon_E086_E087.dem.wgs84\n",
      "N27E086.SRTMGL1.hgt.zip = succeded\n"
     ]
    }
   ],
   "source": [
    "# feed dem.py ingeter coordinates surrounding the aoi, using the following structure: lower lat, upper lat, left lon, right lon \n",
    "\n",
    "!dem.py -a stitch -b 27 28 86 87 -r -s 1 -c\n",
    "!rm demLat*.dem demLat*.dem.xml demLat*.dem.vrt"
   ]
  },
  {
   "cell_type": "markdown",
   "id": "cff18dd7-bcaa-46ee-a1d6-d6cdfd7e71f1",
   "metadata": {},
   "source": [
    "## Stack processing "
   ]
  },
  {
   "cell_type": "code",
   "execution_count": 46,
   "id": "d9a5bad6-7bde-4f38-b225-3169bfb30eaf",
   "metadata": {},
   "outputs": [],
   "source": [
    "os.chdir('/tmp')"
   ]
  },
  {
   "cell_type": "code",
   "execution_count": 22,
   "id": "cb8642ee-8339-4de8-a2c7-60308050abad",
   "metadata": {},
   "outputs": [
    {
     "name": "stdout",
     "output_type": "stream",
     "text": [
      "This is the Open Source version of ISCE.\n",
      "Some of the workflows depend on a separate licensed package.\n",
      "To obtain the licensed package, please make a request for ISCE\n",
      "through the website: https://download.jpl.nasa.gov/ops/request/index.cfm.\n",
      "Alternatively, if you are a member, or can become a member of WinSAR\n",
      "you may be able to obtain access to a version of the licensed sofware at\n",
      "https://winsar.unavco.org/software/isce\n",
      "usage: stackSentinel.py [-h] [-H] -s SLC_DIRNAME -o ORBIT_DIRNAME -a\n",
      "                        AUX_DIRNAME [-w WORK_DIR] -d DEM [-m REFERENCE_DATE]\n",
      "                        [-c NUM_CONNECTIONS] [-n SWATH_NUM] [-b BBOX]\n",
      "                        [-t TEXT_CMD] [-x EXCLUDE_DATES] [-i INCLUDE_DATES]\n",
      "                        [--start_date STARTDATE] [--stop_date STOPDATE]\n",
      "                        [-z AZIMUTHLOOKS] [-r RANGELOOKS] [-f FILTSTRENGTH]\n",
      "                        [--snr_misreg_threshold SNRTHRESHOLD]\n",
      "                        [-p POLARIZATION] [-C {geometry,NESD}]\n",
      "                        [-O NUM_OVERLAP_CONNECTIONS]\n",
      "                        [-e ESDCOHERENCETHRESHOLD]\n",
      "                        [-W {slc,correlation,interferogram,offset}]\n",
      "                        [-V {True,False}] [-useGPU] [--num_proc NUMPROCESS]\n",
      "                        [--num_proc4topo NUMPROCESS4TOPO] [-u {icu,snaphu}]\n",
      "                        [-rmFilter] [--param_ion PARAM_ION]\n",
      "                        [--num_connections_ion NUM_CONNECTIONS_ION]\n",
      "\n",
      "Preparing the directory structure and config files for stack processing of\n",
      "Sentinel data\n",
      "\n",
      "optional arguments:\n",
      "  -h, --help            show this help message and exit\n",
      "  -H, --hh              Display detailed help information.\n",
      "  -s SLC_DIRNAME, --slc_directory SLC_DIRNAME\n",
      "                        Directory with all Sentinel SLCs\n",
      "  -o ORBIT_DIRNAME, --orbit_directory ORBIT_DIRNAME\n",
      "                        Directory with all orbits\n",
      "  -a AUX_DIRNAME, --aux_directory AUX_DIRNAME\n",
      "                        Directory with all aux files\n",
      "  -w WORK_DIR, --working_directory WORK_DIR\n",
      "                        Working directory (default: ./).\n",
      "  -d DEM, --dem DEM     Directory with the DEM\n",
      "  -m REFERENCE_DATE, --reference_date REFERENCE_DATE\n",
      "                        Directory with reference acquisition\n",
      "  -c NUM_CONNECTIONS, --num_connections NUM_CONNECTIONS\n",
      "                        number of interferograms between each date and\n",
      "                        subsequent dates (default: 1).\n",
      "  -n SWATH_NUM, --swath_num SWATH_NUM\n",
      "                        A list of swaths to be processed. -- Default : '1 2 3'\n",
      "  -b BBOX, --bbox BBOX  Lat/Lon Bounding SNWE. -- Example : '19 20 -99.5\n",
      "                        -98.5' -- Default : common overlap between stack\n",
      "  -t TEXT_CMD, --text_cmd TEXT_CMD\n",
      "                        text command to be added to the beginning of each line\n",
      "                        of the run files (default: ''). Example : 'source\n",
      "                        ~/.bash_profile;'\n",
      "  -x EXCLUDE_DATES, --exclude_dates EXCLUDE_DATES\n",
      "                        List of the dates to be excluded for processing. --\n",
      "                        Example : '20141007,20141031' (default: None).\n",
      "  -i INCLUDE_DATES, --include_dates INCLUDE_DATES\n",
      "                        List of the dates to be included for processing. --\n",
      "                        Example : '20141007,20141031' (default: None).\n",
      "  --start_date STARTDATE\n",
      "                        Start date for stack processing. Acquisitions before\n",
      "                        start date are ignored. format should be YYYY-MM-DD\n",
      "                        e.g., 2015-01-23\n",
      "  --stop_date STOPDATE  Stop date for stack processing. Acquisitions after\n",
      "                        stop date are ignored. format should be YYYY-MM-DD\n",
      "                        e.g., 2017-02-26\n",
      "  -z AZIMUTHLOOKS, --azimuth_looks AZIMUTHLOOKS\n",
      "                        Number of looks in azimuth for interferogram multi-\n",
      "                        looking (default: 3).\n",
      "  -r RANGELOOKS, --range_looks RANGELOOKS\n",
      "                        Number of looks in range for interferogram multi-\n",
      "                        looking (default: 9).\n",
      "  -f FILTSTRENGTH, --filter_strength FILTSTRENGTH\n",
      "                        Filter strength for interferogram filtering (default:\n",
      "                        0.5).\n",
      "  --snr_misreg_threshold SNRTHRESHOLD\n",
      "                        SNR threshold for estimating range misregistration\n",
      "                        using cross correlation (default: 10).\n",
      "  -p POLARIZATION, --polarization POLARIZATION\n",
      "                        SAR data polarization (default: vv).\n",
      "  -C {geometry,NESD}, --coregistration {geometry,NESD}\n",
      "                        Coregistration options (default: NESD).\n",
      "  -O NUM_OVERLAP_CONNECTIONS, --num_overlap_connections NUM_OVERLAP_CONNECTIONS\n",
      "                        number of overlap interferograms between each date and\n",
      "                        subsequent dates used for NESD computation (for\n",
      "                        azimuth offsets misregistration) (default: 3).\n",
      "  -e ESDCOHERENCETHRESHOLD, --esd_coherence_threshold ESDCOHERENCETHRESHOLD\n",
      "                        Coherence threshold for estimating azimuth\n",
      "                        misregistration using enhanced spectral diversity\n",
      "                        (default: 0.85).\n",
      "  -W {slc,correlation,interferogram,offset}, --workflow {slc,correlation,interferogram,offset}\n",
      "                        The InSAR processing workflow (default:\n",
      "                        interferogram).\n",
      "  -V {True,False}, --virtual_merge {True,False}\n",
      "                        Use virtual files for the merged SLCs and geometry\n",
      "                        files. Default: True for correlation / interferogram\n",
      "                        workflow False for slc / offset workflow\n",
      "  -useGPU, --useGPU     Allow App to use GPU when available\n",
      "  --num_proc NUMPROCESS, --num_process NUMPROCESS\n",
      "                        number of tasks running in parallel in each run file\n",
      "                        (default: 1).\n",
      "  --num_proc4topo NUMPROCESS4TOPO, --num_process4topo NUMPROCESS4TOPO\n",
      "                        number of parallel processes (for topo only) (default:\n",
      "                        1).\n",
      "  -u {icu,snaphu}, --unw_method {icu,snaphu}\n",
      "                        Unwrapping method (default: snaphu).\n",
      "  -rmFilter, --rmFilter\n",
      "                        Make an extra unwrap file in which filtering effect is\n",
      "                        removed\n",
      "  --param_ion PARAM_ION\n",
      "                        ionosphere estimation parameter file. if provided,\n",
      "                        will do ionosphere estimation.\n",
      "  --num_connections_ion NUM_CONNECTIONS_ION\n",
      "                        number of interferograms between each date and\n",
      "                        subsequent dates for ionosphere estimation (default:\n",
      "                        3).\n"
     ]
    }
   ],
   "source": [
    "# Look at options for stack processing\n",
    "\n",
    "!stackSentinel.py -h"
   ]
  },
  {
   "cell_type": "code",
   "execution_count": 47,
   "id": "0f8766dd-5801-4782-848e-23d371210875",
   "metadata": {},
   "outputs": [
    {
     "name": "stdout",
     "output_type": "stream",
     "text": [
      "This is the Open Source version of ISCE.\n",
      "Some of the workflows depend on a separate licensed package.\n",
      "To obtain the licensed package, please make a request for ISCE\n",
      "through the website: https://download.jpl.nasa.gov/ops/request/index.cfm.\n",
      "Alternatively, if you are a member, or can become a member of WinSAR\n",
      "you may be able to obtain access to a version of the licensed sofware at\n",
      "https://winsar.unavco.org/software/isce\n",
      "Number of SAFE files found: 3\n",
      "Number of SAFE files to be used (cover BBOX): 3\n",
      "*****************************************\n",
      "Number of dates : 3\n",
      "List of dates : \n",
      "['20210806', '20210818', '20210830']\n",
      "date      south      north\n",
      "20210806 26.30085 28.33621\n",
      "20210818 26.301233 28.336365\n",
      "20210830 26.300856 28.336529\n",
      "*****************************************\n",
      "The overlap region among all dates (based on the preview kml files):\n",
      " South   North   East  West \n",
      "26.301233 28.33621 86.205772 89.061569\n",
      "*****************************************\n",
      "All dates (3)\n",
      "['20210806', '20210818', '20210830']\n",
      "\n",
      "dates covering the bbox (3)\n",
      "['20210806', '20210818', '20210830']\n",
      "\n",
      "The reference date was not chosen. The first date is considered as reference date.\n",
      "\n",
      "All SLCs will be coregistered to : 20210806\n",
      "secondary dates :\n",
      "['20210818', '20210830']\n",
      "\n",
      "No existing stack was identified. A new stack will be generated.\n",
      "*****************************************\n",
      "Coregistration method:  NESD\n",
      "Workflow:  interferogram\n",
      "*****************************************\n",
      "writing  /tmp/run_files/run_01_unpack_topo_reference\n",
      "writing  /tmp/run_files/run_02_unpack_secondary_slc\n",
      "writing  /tmp/run_files/run_03_average_baseline\n",
      "writing  /tmp/run_files/run_04_extract_burst_overlaps\n",
      "writing  /tmp/run_files/run_05_overlap_geo2rdr\n",
      "writing  /tmp/run_files/run_06_overlap_resample\n",
      "writing  /tmp/run_files/run_07_pairs_misreg\n",
      "writing  /tmp/run_files/run_08_timeseries_misreg\n",
      "writing  /tmp/run_files/run_09_fullBurst_geo2rdr\n",
      "writing  /tmp/run_files/run_10_fullBurst_resample\n",
      "writing  /tmp/run_files/run_11_extract_stack_valid_region\n",
      "writing  /tmp/run_files/run_12_merge_reference_secondary_slc\n",
      "writing  /tmp/run_files/run_13_generate_burst_igram\n",
      "writing  /tmp/run_files/run_14_merge_burst_igram\n",
      "writing  /tmp/run_files/run_15_filter_coherence\n",
      "writing  /tmp/run_files/run_16_unwrap\n"
     ]
    }
   ],
   "source": [
    "!stackSentinel.py -s /tmp/SLC/ -o /tmp/orbital/ -a /tmp/AUX/ -d /tmp/DEM/demLat_N27_N28_Lon_E086_E087.dem.wgs84 -r 9 -z 2 -c 2 --bbox '27.8 28.00 86.80 87.00' -W interferogram"
   ]
  },
  {
   "cell_type": "code",
   "execution_count": 48,
   "id": "9836967b-bd4c-4fb5-ae8a-1ef01f8f01ea",
   "metadata": {},
   "outputs": [],
   "source": [
    "os.chdir('/tmp/run_files')"
   ]
  },
  {
   "cell_type": "code",
   "execution_count": null,
   "id": "1c250b13-cff3-41b6-90bf-04a1616dc7be",
   "metadata": {
    "scrolled": true,
    "tags": []
   },
   "outputs": [
    {
     "name": "stdout",
     "output_type": "stream",
     "text": [
      "Completed Parsing the Configuration file\n",
      "Functions to be executed:\n",
      "['Function-1', 'Function-2']\n",
      "Running: Sentinel1_TOPS\n",
      "['--dirname', '/tmp/SLC/S1A_IW_SLC__1SDV_20210806T121354_20210806T121421_039109_049D70_B0A0.zip', '--swaths', '1 2 3', '--orbitdir', '/tmp/orbital', '--outdir', '/tmp/reference', '--auxdir', '/tmp/AUX', '--bbox', '27.8 28.00 86.80 87.00', '--pol', 'vv']\n",
      "This is the Open Source version of ISCE.\n",
      "Some of the workflows depend on a separate licensed package.\n",
      "To obtain the licensed package, please make a request for ISCE\n",
      "through the website: https://download.jpl.nasa.gov/ops/request/index.cfm.\n",
      "Alternatively, if you are a member, or can become a member of WinSAR\n",
      "you may be able to obtain access to a version of the licensed sofware at\n",
      "https://winsar.unavco.org/software/isce\n",
      "Input XML files:  ['/vsizip//tmp/SLC/S1A_IW_SLC__1SDV_20210806T121354_20210806T121421_039109_049D70_B0A0.zip/S1A_IW_SLC__1SDV_20210806T121354_20210806T121421_039109_049D70_B0A0.SAFE/annotation/s1a-iw1-slc-vv-20210806t121356-20210806t121421-039109-049d70-004.xml']\n",
      "Input TIFF files:  ['/vsizip//tmp/SLC/S1A_IW_SLC__1SDV_20210806T121354_20210806T121421_039109_049D70_B0A0.zip/S1A_IW_SLC__1SDV_20210806T121354_20210806T121421_039109_049D70_B0A0.SAFE/measurement/s1a-iw1-slc-vv-20210806t121356-20210806t121421-039109-049d70-004.tiff']\n",
      "Manifest files:  ['/vsizip//tmp/SLC/S1A_IW_SLC__1SDV_20210806T121354_20210806T121421_039109_049D70_B0A0.zip/S1A_IW_SLC__1SDV_20210806T121354_20210806T121421_039109_049D70_B0A0.SAFE/manifest.safe']\n",
      "MANS:  /tmp/SLC/S1A_IW_SLC__1SDV_20210806T121354_20210806T121421_039109_049D70_B0A0.zip S1A_IW_SLC__1SDV_20210806T121354_20210806T121421_039109_049D70_B0A0.SAFE/manifest.safe\n",
      "Setting IPF version to :  003.31\n",
      "Extracting orbit from Orbit File:  /tmp/orbital/S1A_OPER_AUX_POEORB_OPOD_20210826T121907_V20210805T225942_20210807T005942.EOF\n",
      "Number of Bursts before cropping:  9\n",
      "Number of Bursts after cropping:  2\n",
      "Updating burst number from 8 to 1\n",
      "Updating burst number from 9 to 2\n",
      "Input XML files:  ['/vsizip//tmp/SLC/S1A_IW_SLC__1SDV_20210806T121354_20210806T121421_039109_049D70_B0A0.zip/S1A_IW_SLC__1SDV_20210806T121354_20210806T121421_039109_049D70_B0A0.SAFE/annotation/s1a-iw2-slc-vv-20210806t121354-20210806t121420-039109-049d70-005.xml']\n",
      "Input TIFF files:  ['/vsizip//tmp/SLC/S1A_IW_SLC__1SDV_20210806T121354_20210806T121421_039109_049D70_B0A0.zip/S1A_IW_SLC__1SDV_20210806T121354_20210806T121421_039109_049D70_B0A0.SAFE/measurement/s1a-iw2-slc-vv-20210806t121354-20210806t121420-039109-049d70-005.tiff']\n",
      "Manifest files:  ['/vsizip//tmp/SLC/S1A_IW_SLC__1SDV_20210806T121354_20210806T121421_039109_049D70_B0A0.zip/S1A_IW_SLC__1SDV_20210806T121354_20210806T121421_039109_049D70_B0A0.SAFE/manifest.safe']\n",
      "MANS:  /tmp/SLC/S1A_IW_SLC__1SDV_20210806T121354_20210806T121421_039109_049D70_B0A0.zip S1A_IW_SLC__1SDV_20210806T121354_20210806T121421_039109_049D70_B0A0.SAFE/manifest.safe\n",
      "Setting IPF version to :  003.31\n",
      "Extracting orbit from Orbit File:  /tmp/orbital/S1A_OPER_AUX_POEORB_OPOD_20210826T121907_V20210805T225942_20210807T005942.EOF\n",
      "Number of Bursts before cropping:  9\n",
      "Number of Bursts after cropping:  0\n",
      "NODATA: No bursts to extract\n",
      "Input XML files:  ['/vsizip//tmp/SLC/S1A_IW_SLC__1SDV_20210806T121354_20210806T121421_039109_049D70_B0A0.zip/S1A_IW_SLC__1SDV_20210806T121354_20210806T121421_039109_049D70_B0A0.SAFE/annotation/s1a-iw3-slc-vv-20210806t121355-20210806t121421-039109-049d70-006.xml']\n",
      "Input TIFF files:  ['/vsizip//tmp/SLC/S1A_IW_SLC__1SDV_20210806T121354_20210806T121421_039109_049D70_B0A0.zip/S1A_IW_SLC__1SDV_20210806T121354_20210806T121421_039109_049D70_B0A0.SAFE/measurement/s1a-iw3-slc-vv-20210806t121355-20210806t121421-039109-049d70-006.tiff']\n",
      "Manifest files:  ['/vsizip//tmp/SLC/S1A_IW_SLC__1SDV_20210806T121354_20210806T121421_039109_049D70_B0A0.zip/S1A_IW_SLC__1SDV_20210806T121354_20210806T121421_039109_049D70_B0A0.SAFE/manifest.safe']\n",
      "MANS:  /tmp/SLC/S1A_IW_SLC__1SDV_20210806T121354_20210806T121421_039109_049D70_B0A0.zip S1A_IW_SLC__1SDV_20210806T121354_20210806T121421_039109_049D70_B0A0.SAFE/manifest.safe\n",
      "Setting IPF version to :  003.31\n",
      "Extracting orbit from Orbit File:  /tmp/orbital/S1A_OPER_AUX_POEORB_OPOD_20210826T121907_V20210805T225942_20210807T005942.EOF\n",
      "Number of Bursts before cropping:  9\n",
      "Number of Bursts after cropping:  0\n",
      "NODATA: No bursts to extract\n",
      "Running: topo\n",
      "['--reference', '/tmp/reference', '--dem', '/tmp/DEM/demLat_N27_N28_Lon_E086_E087.dem.wgs84', '--geom_referenceDir', '/tmp/geom_reference', '--numProcess', '1']\n",
      "running in parallel with 1 processes\n",
      "2022-03-05 20:10:09,905 - isce.zerodop.topozero - WARNING - Default Peg heading set to: -0.21991044092905426\n",
      "Polynomial Order: 0 - by - 0 \n",
      "0\t\n",
      "Polynomial Order: 0 - by - 1 \n",
      "799080\t2.32956\t\n",
      "GDAL open (R): /tmp/DEM/demLat_N27_N28_Lon_E086_E087.dem.wgs84.vrt\n",
      "API open (WR): /tmp/geom_reference/IW1/lat_01.rdr\n",
      "API open (WR): /tmp/geom_reference/IW1/lon_01.rdr\n",
      "API open (WR): /tmp/geom_reference/IW1/hgt_01.rdr\n",
      "API open (WR): /tmp/geom_reference/IW1/los_01.rdr\n",
      "API open (WR): /tmp/geom_reference/IW1/incLocal_01.rdr\n",
      "API open (WR): /tmp/geom_reference/IW1/shadowMask_01.rdr\n",
      "C pointer already created. Finalize and recreate if image dimensions changed.\n",
      "C pointer already created. Finalize and recreate if image dimensions changed.\n",
      " Initializing biquintic interpolator\n",
      " Orbit interpolation method: hermite\n",
      " Max threads used:            8\n",
      " DEM parameters:\n",
      " Dimensions:         3600        3600\n",
      " Top Left:    86.000000000000000        28.000000000000000     \n",
      " Spacing:    2.7777777777777778E-004  -2.7777777777777778E-004\n",
      " Lon:    86.000000000000000        86.999722222222218     \n",
      " Lat:    27.000277777777779        28.000000000000000     \n",
      "  \n",
      " Estimated DEM bounds needed for global height range: \n",
      " Lon:    86.029578637983107        87.408979597845033     \n",
      " Lat:    27.414184804469027        28.074000499428852     \n",
      " Warning: east limit may be insufficient for global height range\n",
      " Warning: north limit may be insufficient for global height range\n",
      "  \n",
      " Actual DEM bounds used: \n",
      " Dimensions:         3494        2110\n",
      " Top Left:    86.029444444444451        28.000000000000000     \n",
      " Spacing:    2.7777777777777778E-004  -2.7777777777777778E-004\n",
      " Lon:    86.029444444444451        86.999722222222232     \n",
      " Lat:    27.414166666666667        28.000000000000000     \n",
      " Lines:            1        2110\n",
      " Pixels:          107        3600\n",
      " Max DEM height:    8719.00000    \n",
      " Primary iterations:           25\n",
      " Secondary iterations:           10\n",
      " Distance threshold :    5.0000000000000003E-002\n",
      " Processing line:            1   7596.1853074826840     \n",
      " Dopplers:    0.0000000000000000        0.0000000000000000        0.0000000000000000     \n",
      " Processing line:         1001   7596.1606653725703     \n",
      " Dopplers:    0.0000000000000000        0.0000000000000000        0.0000000000000000     \n",
      " Total convergence:    27979677  out of     32759935\n",
      "API close:  /tmp/geom_reference/IW1/lat_01.rdr\n",
      "API open (R): /tmp/geom_reference/IW1/lat_01.rdr\n",
      "API close:  /tmp/geom_reference/IW1/lat_01.rdr\n",
      "API close:  /tmp/geom_reference/IW1/lon_01.rdr\n",
      "API open (R): /tmp/geom_reference/IW1/lon_01.rdr\n",
      "API close:  /tmp/geom_reference/IW1/lon_01.rdr\n",
      "API close:  /tmp/geom_reference/IW1/hgt_01.rdr\n",
      "API open (R): /tmp/geom_reference/IW1/hgt_01.rdr\n",
      "API close:  /tmp/geom_reference/IW1/hgt_01.rdr\n",
      "API close:  /tmp/geom_reference/IW1/los_01.rdr\n",
      "API open (R): /tmp/geom_reference/IW1/los_01.rdr\n",
      "API close:  /tmp/geom_reference/IW1/los_01.rdr\n",
      "GDAL close: /tmp/DEM/demLat_N27_N28_Lon_E086_E087.dem.wgs84.vrt\n",
      "API close:  /tmp/geom_reference/IW1/incLocal_01.rdr\n",
      "API open (R): /tmp/geom_reference/IW1/incLocal_01.rdr\n",
      "API close:  /tmp/geom_reference/IW1/incLocal_01.rdr\n",
      "API close:  /tmp/geom_reference/IW1/shadowMask_01.rdr\n",
      "API open (R): /tmp/geom_reference/IW1/shadowMask_01.rdr\n",
      "API close:  /tmp/geom_reference/IW1/shadowMask_01.rdr\n",
      "2022-03-05 20:17:47,591 - isce.zerodop.topozero - WARNING - Default Peg heading set to: -0.22005793808159146\n",
      "Polynomial Order: 0 - by - 0 \n",
      "0\t\n",
      "Polynomial Order: 0 - by - 1 \n",
      "799080\t2.32956\t\n",
      "GDAL open (R): /tmp/DEM/demLat_N27_N28_Lon_E086_E087.dem.wgs84.vrt\n",
      "API open (WR): /tmp/geom_reference/IW1/lat_02.rdr\n",
      "API open (WR): /tmp/geom_reference/IW1/lon_02.rdr\n",
      "API open (WR): /tmp/geom_reference/IW1/hgt_02.rdr\n",
      "API open (WR): /tmp/geom_reference/IW1/los_02.rdr\n",
      "API open (WR): /tmp/geom_reference/IW1/incLocal_02.rdr\n",
      "API open (WR): /tmp/geom_reference/IW1/shadowMask_02.rdr\n",
      "C pointer already created. Finalize and recreate if image dimensions changed.\n",
      "C pointer already created. Finalize and recreate if image dimensions changed.\n",
      " Initializing biquintic interpolator\n",
      " Orbit interpolation method: hermite\n",
      " Max threads used:            8\n",
      " DEM parameters:\n",
      " Dimensions:         3600        3600\n",
      " Top Left:    86.000000000000000        28.000000000000000     \n",
      " Spacing:    2.7777777777777778E-004  -2.7777777777777778E-004\n",
      " Lon:    86.000000000000000        86.999722222222218     \n",
      " Lat:    27.000277777777779        28.000000000000000     \n",
      "  \n",
      " Estimated DEM bounds needed for global height range: \n",
      " Lon:    85.993035733295116        87.374168805567876     \n",
      " Lat:    27.580572197359093        28.240309920537150     \n",
      " Warning: west limit may be insufficient for global height range\n",
      " Warning: east limit may be insufficient for global height range\n",
      " Warning: north limit may be insufficient for global height range\n",
      "  \n",
      " Actual DEM bounds used: \n",
      " Dimensions:         3600        1511\n",
      " Top Left:    86.000000000000000        28.000000000000000     \n",
      " Spacing:    2.7777777777777778E-004  -2.7777777777777778E-004\n",
      " Lon:    86.000000000000000        86.999722222222218     \n",
      " Lat:    27.580555555555556        28.000000000000000     \n",
      " Lines:            1        1511\n",
      " Pixels:            1        3600\n",
      " Max DEM height:    8719.00000    \n",
      " Primary iterations:           25\n",
      " Secondary iterations:           10\n",
      " Distance threshold :    5.0000000000000003E-002\n",
      " Processing line:            1   7596.1522088520469     \n",
      " Dopplers:    0.0000000000000000        0.0000000000000000        0.0000000000000000     \n",
      " Processing line:         1001   7596.1273912990728     \n",
      " Dopplers:    0.0000000000000000        0.0000000000000000        0.0000000000000000     \n"
     ]
    }
   ],
   "source": [
    "%% time\n",
    "!sh run_01_unpack_topo_reference"
   ]
  },
  {
   "cell_type": "code",
   "execution_count": null,
   "id": "b247f28b-1371-4448-be7d-c0ff08f22193",
   "metadata": {},
   "outputs": [],
   "source": [
    "%%time\n",
    "!sh run_02_unpack_secondary_slc"
   ]
  },
  {
   "cell_type": "code",
   "execution_count": null,
   "id": "0eb00a95-bb54-4608-b9c5-dbea5e4da6e3",
   "metadata": {},
   "outputs": [],
   "source": [
    "%%time\n",
    "!sh run_03_average_baseline"
   ]
  },
  {
   "cell_type": "code",
   "execution_count": null,
   "id": "aa19523b-7052-4880-825c-cdd0f3ab0fb1",
   "metadata": {},
   "outputs": [],
   "source": [
    "%%time\n",
    "!sh run_04_extract_burst_overlaps"
   ]
  },
  {
   "cell_type": "code",
   "execution_count": null,
   "id": "a6a5682c-668a-4144-a5d8-fa08fcd45117",
   "metadata": {},
   "outputs": [],
   "source": [
    "%%time\n",
    "!sh run_05_overlap_geo2rdr"
   ]
  },
  {
   "cell_type": "code",
   "execution_count": null,
   "id": "2e5317f5-ecdf-4a1e-8b67-f2fd15b9dcf1",
   "metadata": {},
   "outputs": [],
   "source": [
    "%%time\n",
    "!sh run_06_overlap_resample"
   ]
  },
  {
   "cell_type": "code",
   "execution_count": null,
   "id": "5adaef41-a0de-47de-bd67-3330f5c9a25f",
   "metadata": {},
   "outputs": [],
   "source": [
    "%%time\n",
    "!sh run_07_pairs_misreg"
   ]
  },
  {
   "cell_type": "code",
   "execution_count": null,
   "id": "283333c1-bbf6-48f0-b46b-69d19adcd2a5",
   "metadata": {},
   "outputs": [],
   "source": [
    "%%time\n",
    "!sh run_08_timeseries_misreg"
   ]
  },
  {
   "cell_type": "code",
   "execution_count": null,
   "id": "81d0796d-dc9a-4aa8-8c8d-ef2a455583ed",
   "metadata": {},
   "outputs": [],
   "source": [
    "%%time\n",
    "!sh run_09_fullBurst_geo2rdr"
   ]
  },
  {
   "cell_type": "code",
   "execution_count": null,
   "id": "a393eb77-498d-4168-9e9b-ace813d497a8",
   "metadata": {},
   "outputs": [],
   "source": [
    "%%time\n",
    "!sh run_10_fullBurst_resample"
   ]
  },
  {
   "cell_type": "code",
   "execution_count": null,
   "id": "e98d98b1-7bda-41e0-82f0-2149841ebe67",
   "metadata": {},
   "outputs": [],
   "source": [
    "%%time\n",
    "!sh run_11_extract_stack_valid_region"
   ]
  },
  {
   "cell_type": "code",
   "execution_count": null,
   "id": "21680009-f270-4359-a341-869f70d9854e",
   "metadata": {},
   "outputs": [],
   "source": [
    "%%time\n",
    "!sh run_12_merge_reference_secondary_slc"
   ]
  },
  {
   "cell_type": "code",
   "execution_count": null,
   "id": "dec35e02-d893-4134-8c1b-86c021691e66",
   "metadata": {},
   "outputs": [],
   "source": [
    "%%time\n",
    "!sh run_13_generate_burst_igram"
   ]
  },
  {
   "cell_type": "code",
   "execution_count": null,
   "id": "8ff8a2c3-004e-400d-bd49-89a8e3a51dd5",
   "metadata": {},
   "outputs": [],
   "source": [
    "%%time\n",
    "!sh run_14_merge_burst_igram"
   ]
  },
  {
   "cell_type": "code",
   "execution_count": null,
   "id": "437c3e3a-69be-4d7c-b09a-e4cfd3523826",
   "metadata": {},
   "outputs": [],
   "source": [
    "%%time\n",
    "!sh run_15_filter_coherence"
   ]
  },
  {
   "cell_type": "code",
   "execution_count": null,
   "id": "ff8affbd-e5e6-4523-b4a6-18d9c902b0b9",
   "metadata": {},
   "outputs": [],
   "source": [
    "%%time\n",
    "!sh run_16_unwrap"
   ]
  }
 ],
 "metadata": {
  "kernelspec": {
   "display_name": "Python [conda env:isce2]",
   "language": "python",
   "name": "conda-env-isce2-py"
  },
  "language_info": {
   "codemirror_mode": {
    "name": "ipython",
    "version": 3
   },
   "file_extension": ".py",
   "mimetype": "text/x-python",
   "name": "python",
   "nbconvert_exporter": "python",
   "pygments_lexer": "ipython3",
   "version": "3.9.10"
  }
 },
 "nbformat": 4,
 "nbformat_minor": 5
}
