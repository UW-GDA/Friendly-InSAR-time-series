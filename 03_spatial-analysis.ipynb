{
 "cells": [
  {
   "cell_type": "markdown",
   "id": "e094add3-6c2a-4c6f-b782-f1e5d2a06e85",
   "metadata": {
    "tags": []
   },
   "source": [
    "# Geospatial data analysis of time series\n",
    "Quinn Brencher"
   ]
  },
  {
   "cell_type": "code",
   "execution_count": null,
   "id": "3cd4cc0b-18c8-4297-9121-8e9cdb2e2094",
   "metadata": {},
   "outputs": [],
   "source": [
    "# Import required packages\n",
    "%matplotlib inline\n",
    "import os\n",
    "import numpy as np\n",
    "import pandas as pd\n",
    "import geopandas as gpd\n",
    "import rasterio as rio\n",
    "from rasterio import plot, mask\n",
    "from rasterio.warp import calculate_default_transform, reproject, Resampling\n",
    "import matplotlib.pyplot as plt\n",
    "import h5py\n",
    "import xarray as xr\n",
    "import datetime as dt"
   ]
  },
  {
   "cell_type": "markdown",
   "id": "328b003e-8ef8-418c-91b7-8acf436240e1",
   "metadata": {},
   "source": [
    "## Load in and rebuild time series data"
   ]
  },
  {
   "cell_type": "code",
   "execution_count": null,
   "id": "967364a9-6034-4873-a89d-cc92dde4fe34",
   "metadata": {},
   "outputs": [],
   "source": [
    "os.chdir('/tmp')\n",
    "\n",
    "if not os.path.exists('/tmp/polygons'):\n",
    "        os.makedirs('/tmp/polygons')\n",
    "\n",
    "os.chdir('/tmp/mintpy')"
   ]
  },
  {
   "cell_type": "markdown",
   "id": "3787c71f-a881-474a-93cf-ccd54e776426",
   "metadata": {},
   "source": [
    "Place json with areas of interest or stable reference areas in polyons folder"
   ]
  },
  {
   "cell_type": "code",
   "execution_count": null,
   "id": "64e41079-5765-49da-b8a7-244092d5569f",
   "metadata": {},
   "outputs": [],
   "source": [
    "# open time series data \n",
    "disp_fn = '/tmp/mintpy/timeseries_ERA5_ramp_demErr.h5'\n",
    "disp_df = xr.open_dataset(disp_fn, engine='h5netcdf', phony_dims='sort', decode_coords=\"all\")"
   ]
  },
  {
   "cell_type": "code",
   "execution_count": null,
   "id": "d3ffe06d-9dcd-4c39-b622-45e6c6598b20",
   "metadata": {},
   "outputs": [],
   "source": [
    "# examine structure\n",
    "# MintPy outputs H5 files and the coordinates don't survive being loaded into xarray\n",
    "disp_df "
   ]
  },
  {
   "cell_type": "code",
   "execution_count": null,
   "id": "ef499780-4901-4d83-adea-e846aea19503",
   "metadata": {},
   "outputs": [],
   "source": [
    "# rename variables\n",
    "disp_df = disp_df.rename({'date': 'dstring',\n",
    "                          'timeseries': 'displacement'})"
   ]
  },
  {
   "cell_type": "code",
   "execution_count": null,
   "id": "396afe15-2850-4284-874f-8fc786337945",
   "metadata": {},
   "outputs": [],
   "source": [
    "# rename dims\n",
    "disp_df = disp_df.rename_dims({'phony_dim_0':'date',\n",
    "                               'phony_dim_1':'latitude',\n",
    "                               'phony_dim_2':'longitude'})"
   ]
  },
  {
   "cell_type": "code",
   "execution_count": null,
   "id": "12d3daf1-33e8-44c4-9cc9-104763387b3e",
   "metadata": {},
   "outputs": [],
   "source": [
    "# Already in wgs84, just has no coordinates\n",
    "disp_df.isel(date=7).displacement.plot.imshow()"
   ]
  },
  {
   "cell_type": "code",
   "execution_count": null,
   "id": "d82bbcb1-1c72-4c01-9b36-f9efd8082c53",
   "metadata": {},
   "outputs": [],
   "source": [
    "# use the 'date' data variable to create date list\n",
    "date_list = []\n",
    "for i in disp_df['dstring']:\n",
    "    date_list.append(dt.datetime.strptime(str(i)[40:48], '%Y%m%d'))"
   ]
  },
  {
   "cell_type": "code",
   "execution_count": null,
   "id": "dbbb3ce8-b5ab-4a95-a32b-293218c312b2",
   "metadata": {},
   "outputs": [],
   "source": [
    "# function to rewrite coordinates from metadata\n",
    "def coord_range(df, coord):\n",
    "    if coord == 'lat' or coord == 'latitude':\n",
    "        latrange = np.linspace(float(df.attrs['Y_FIRST']),((float(df.attrs['Y_STEP'])*float(df.attrs['LENGTH']))+float(df.attrs['Y_FIRST'])),int(df.attrs['LENGTH']))\n",
    "        return latrange\n",
    "    elif coord == 'lon' or coord == 'longitude':\n",
    "        lonrange = np.linspace(float(df.attrs['X_FIRST']),((float(df.attrs['X_STEP'])*float(df.attrs['WIDTH']))+float(df.attrs['X_FIRST'])),int(df.attrs['WIDTH']))\n",
    "        return lonrange"
   ]
  },
  {
   "cell_type": "code",
   "execution_count": null,
   "id": "96fd16fc-85d0-473a-b396-785d3ea0843e",
   "metadata": {},
   "outputs": [],
   "source": [
    "# rebuild coordinates\n",
    "disp_df = disp_df.assign_coords({'date': ('date', np.array(date_list)),\n",
    "                                 'latitude': ('latitude', coord_range(disp_df, 'lat')),\n",
    "                                 'longitude': ('longitude', coord_range(disp_df, 'lon'))})"
   ]
  },
  {
   "cell_type": "code",
   "execution_count": null,
   "id": "f51c3b16-adee-4b9a-997f-d0790e2e2d12",
   "metadata": {},
   "outputs": [],
   "source": [
    "# Examine object\n",
    "disp_df"
   ]
  },
  {
   "cell_type": "code",
   "execution_count": null,
   "id": "3687de9c-3871-4ad8-b1e1-223447a2a0fd",
   "metadata": {},
   "outputs": [],
   "source": [
    "# set correct CRS\n",
    "disp_df = disp_df.rio.write_crs(32645)\n",
    "disp_df.rio.crs"
   ]
  },
  {
   "cell_type": "code",
   "execution_count": null,
   "id": "71d8daef-bf0d-49b4-9f53-2e12d64db705",
   "metadata": {},
   "outputs": [],
   "source": [
    "# Sanity check\n",
    "disp_df.isel(date=7).displacement.plot.imshow()"
   ]
  },
  {
   "cell_type": "code",
   "execution_count": null,
   "id": "a4e493e3-6246-4809-b8dc-074467ad3add",
   "metadata": {},
   "outputs": [],
   "source": [
    "# Probably not much use reprojecting to utm in this case. The site is small and within a degree of the equator. "
   ]
  },
  {
   "cell_type": "markdown",
   "id": "71da13b0-e9c8-44e3-9027-ce2ee4137e13",
   "metadata": {},
   "source": [
    "## Load in average velocity"
   ]
  },
  {
   "cell_type": "code",
   "execution_count": null,
   "id": "d7a604b6-5084-4d82-8f72-966e651133b6",
   "metadata": {},
   "outputs": [],
   "source": [
    "# load in average velocity\n",
    "vel_fn = '/tmp/mintpy/velocity.h5'\n",
    "vel_df = xr.open_dataset(vel_fn, engine='h5netcdf', phony_dims='sort', decode_coords=\"all\")"
   ]
  },
  {
   "cell_type": "code",
   "execution_count": null,
   "id": "e56630d1-cf65-4d27-9685-5f584eb0af9b",
   "metadata": {},
   "outputs": [],
   "source": [
    "#examine structure\n",
    "vel_df"
   ]
  },
  {
   "cell_type": "code",
   "execution_count": null,
   "id": "64864129-e0a2-4c23-9477-c212d6e0b45d",
   "metadata": {},
   "outputs": [],
   "source": [
    "# rebuild dataset\n",
    "vel_df = vel_df.rename_dims({'phony_dim_0':'latitude',\n",
    "                             'phony_dim_1':'longitude'})\n",
    "\n",
    "vel_df = vel_df.assign_coords({'latitude': ('latitude', coord_range(vel_df, 'lat')), \n",
    "                               'longitude': ('longitude', coord_range(vel_df, 'lon'))})\n",
    "\n",
    "vel_df = vel_df.rio.write_crs(4326)\n",
    "vel_df"
   ]
  },
  {
   "cell_type": "markdown",
   "id": "47d3ae0d-ca1a-45a8-be94-f57fd78ac697",
   "metadata": {},
   "source": [
    "## Load in temporal coherence"
   ]
  },
  {
   "cell_type": "code",
   "execution_count": null,
   "id": "5bc04ef2-2da5-41ee-a27c-9c9e0acf0756",
   "metadata": {},
   "outputs": [],
   "source": [
    "# load in average velocity\n",
    "coh_fn = '/tmp/mintpy/temporalCoherence.h5'\n",
    "coh_df = xr.open_dataset(coh_fn, engine='h5netcdf', phony_dims='sort', decode_coords=\"all\")"
   ]
  },
  {
   "cell_type": "code",
   "execution_count": null,
   "id": "d81f20ad-ee9c-4169-9dae-a535e596b2a4",
   "metadata": {},
   "outputs": [],
   "source": [
    "#examine structure\n",
    "coh_df"
   ]
  },
  {
   "cell_type": "code",
   "execution_count": null,
   "id": "f1b0ee08-0f32-4dbd-bcaf-a3e56e2dcff3",
   "metadata": {},
   "outputs": [],
   "source": [
    "# rebuild dataset\n",
    "coh_df = coh_df.rename_dims({'phony_dim_0':'latitude',\n",
    "                             'phony_dim_1':'longitude'})\n",
    "\n",
    "coh_df = coh_df.assign_coords({'latitude': ('latitude', coord_range(coh_df, 'lat')), \n",
    "                               'longitude': ('longitude', coord_range(coh_df, 'lon'))})\n",
    "\n",
    "coh_df"
   ]
  },
  {
   "cell_type": "code",
   "execution_count": null,
   "id": "658ddaa7-c702-40b4-a1df-15b981fcef89",
   "metadata": {},
   "outputs": [],
   "source": [
    "# convert to tif for download\n",
    "coh_df.rio.to_raster('2017_current_coh.tif')"
   ]
  },
  {
   "cell_type": "markdown",
   "id": "883bff6e-0e50-4672-9b7a-7c2e04632687",
   "metadata": {},
   "source": [
    "## Load in polygons"
   ]
  },
  {
   "cell_type": "code",
   "execution_count": null,
   "id": "6e77b6c9-f344-4f16-940d-885810eb0c18",
   "metadata": {},
   "outputs": [],
   "source": [
    "# load json of aoi \n",
    "aoi_fn = '~/Friendly-InSAR-time-series/moraine_wlakes.geojson'\n",
    "aoi_gdf = gpd.read_file(aoi_fn)"
   ]
  },
  {
   "cell_type": "code",
   "execution_count": null,
   "id": "e8bce539-8d05-4607-878f-4cfdff7ebffa",
   "metadata": {},
   "outputs": [],
   "source": [
    "# load json of stable reference areas\n",
    "ref_fn = '~/Friendly-InSAR-time-series/local_ref_polygon.geojson'\n",
    "ref_gdf = gpd.read_file(ref_fn)"
   ]
  },
  {
   "cell_type": "code",
   "execution_count": null,
   "id": "74e7f36b-5c39-4a1d-aa29-74178e139785",
   "metadata": {},
   "outputs": [],
   "source": [
    "# Sanity check\n",
    "f, ax = plt.subplots(figsize=(10,8))\n",
    "vel_df.velocity.plot(ax=ax, cbar_kwargs={'label':'velocity (m/yr)'})\n",
    "aoi_gdf.plot(ax=ax, facecolor='none', edgecolor='r')\n",
    "ref_gdf.plot(ax=ax,  facecolor='none', edgecolor='gray')\n",
    "ax.set_title('velocity, reference areas, and area of interest');"
   ]
  },
  {
   "cell_type": "markdown",
   "id": "49625705-dc9b-4ce0-98ba-d82caf056b55",
   "metadata": {},
   "source": [
    "## Displacement of aoi and reference areas"
   ]
  },
  {
   "cell_type": "code",
   "execution_count": null,
   "id": "f53162de-f38f-47b8-98cb-0365ab8930a6",
   "metadata": {},
   "outputs": [],
   "source": [
    "# clip to aoi, clip to reference areas\n",
    "disp_aoi = disp_df.rio.clip(aoi_gdf.geometry, crs=aoi_gdf.crs, drop=False)\n",
    "disp_ref = disp_df.rio.clip(ref_gdf.geometry, crs=ref_gdf.crs, drop=False)"
   ]
  },
  {
   "cell_type": "code",
   "execution_count": null,
   "id": "244941de-bf94-4209-b41e-f9d43407166f",
   "metadata": {},
   "outputs": [],
   "source": [
    "plt.style.use('ggplot')\n",
    "\n",
    "# Look at displacement distribution in aoi and reference area\n",
    "f,ax = plt.subplots(figsize=(8,4))\n",
    "ax.hist(np.ravel(disp_ref.displacement), bins=200, density=True, alpha=0.7, label='reference pixels')\n",
    "ax.hist(np.ravel(disp_aoi.displacement), bins=200, density=True, alpha=0.7, label='aoi pixels')\n",
    "ax.set_title('displacement in aoi pixels and reference pixels')\n",
    "ax.set_ylabel('normalized count')\n",
    "ax.set_xlabel('displacement (m/yr)')\n",
    "ax.set_ylim(0,110)\n",
    "ax.set_xlim(-0.1,0.25)\n",
    "ax.legend();"
   ]
  },
  {
   "cell_type": "code",
   "execution_count": null,
   "id": "1dbb2763-3aeb-4c8a-a306-980c28d01a1e",
   "metadata": {},
   "outputs": [],
   "source": [
    "# look at cumulative displacement in aoi and reference area\n",
    "f, ax = plt.subplots(figsize=(10,5))\n",
    "disp_aoi.median(dim=('latitude', 'longitude')).displacement.plot(ax=ax, label='median', c='k')\n",
    "disp_aoi.max(dim=('latitude', 'longitude')).displacement.plot(ax=ax, label='max', c='c', alpha=0.5)\n",
    "disp_aoi.min(dim=('latitude', 'longitude')).displacement.plot(ax=ax, label='min', c='r', alpha=0.5)\n",
    "disp_ref.median(dim=('latitude', 'longitude')).displacement.plot(ax=ax, label='median uncertainty', c='orange')\n",
    "ax.set_title('Mean cumulative displacement of Imja Lake dam')\n",
    "ax.set_ylabel('displacement (m)')\n",
    "ax.set_xlabel('time')\n",
    "ax.legend();"
   ]
  },
  {
   "cell_type": "code",
   "execution_count": null,
   "id": "15d3690d-ea53-47d0-b350-84d16a726b61",
   "metadata": {},
   "outputs": [],
   "source": [
    "f, ax = plt.subplots(figsize=(5.8,2))\n",
    "disp_aoi.median(dim=('latitude', 'longitude')).displacement.plot(ax=ax, label='dam median', c='lightsalmon')\n",
    "disp_ref.median(dim=('latitude', 'longitude')).displacement.plot(ax=ax, label='stable area median', c='gray')\n",
    "disp_aoi.min(dim=('latitude', 'longitude')).displacement.plot(ax=ax, label='dam maximum', c='r', alpha=0.5)\n",
    "ax.set_title('Mean cumulative displacement of Imja Lake dam')\n",
    "ax.set_ylabel('displacement (m)')\n",
    "ax.set_xlabel('time')\n",
    "ax.legend();"
   ]
  },
  {
   "cell_type": "markdown",
   "id": "be55f903-886a-493b-bd2c-8207881bfa18",
   "metadata": {},
   "source": [
    "## Mean velocity of aoi and reference areas"
   ]
  },
  {
   "cell_type": "code",
   "execution_count": null,
   "id": "8ce15ac4-693b-403d-96ec-8188bcac78d5",
   "metadata": {
    "tags": []
   },
   "outputs": [],
   "source": [
    "# clip to aoi extent, clip to reference area extent\n",
    "vel_aoi = vel_df.rio.clip(aoi_gdf.geometry, crs=aoi_gdf.crs, drop=False)\n",
    "vel_ref = vel_df.rio.clip(ref_gdf.geometry, crs=ref_gdf.crs, drop=False)"
   ]
  },
  {
   "cell_type": "code",
   "execution_count": null,
   "id": "1e44667c-ed97-4744-b6e7-4de1564a9ea5",
   "metadata": {},
   "outputs": [],
   "source": [
    "# look at velocity distribution in aoi and reference area\n",
    "f,ax = plt.subplots(figsize=(8,4))\n",
    "ax.hist(np.ravel(vel_ref.velocity), bins=50, density=True, alpha=0.7, label='reference pixels')\n",
    "ax.hist(np.ravel(vel_aoi.velocity), bins=50, density=True, alpha=0.7, label='aoi pixels')\n",
    "ax.set_title('mean velocity in aoi pixels and reference pixels')\n",
    "ax.set_ylabel('normalized count')\n",
    "ax.set_xlabel('velocity (m/yr)')\n",
    "ax.set_ylim(0,300)\n",
    "ax.legend();"
   ]
  },
  {
   "cell_type": "code",
   "execution_count": null,
   "id": "0c9cdd70-668f-46de-952c-900ed212ec58",
   "metadata": {},
   "outputs": [],
   "source": [
    "# make 1d and remove na for plotting\n",
    "aoi_filt = np.ravel(vel_aoi.velocity)[~np.isnan(np.ravel(vel_aoi.velocity))]\n",
    "ref_filt = np.ravel(vel_ref.velocity)[~np.isnan(np.ravel(vel_ref.velocity))]"
   ]
  },
  {
   "cell_type": "code",
   "execution_count": null,
   "id": "1cabe00c-aba2-4a1a-978c-0562e579b9f0",
   "metadata": {},
   "outputs": [],
   "source": [
    "## Mean velocity in aoi and reference area\n",
    "f, ax = plt.subplots(1, 2, figsize=(6,5), sharey=True)\n",
    "ax[0].boxplot(aoi_filt, widths=0.8)\n",
    "ax[1].boxplot(ref_filt, widths=0.8)\n",
    "ax[0].set_title('Mean velocity in aoi')\n",
    "ax[1].set_title('Mean velocity in reference area')\n",
    "ax[0].set_ylabel('velocity (m/yr)')"
   ]
  },
  {
   "cell_type": "markdown",
   "id": "68733736-aa69-4627-9e74-33ea7c0bcb35",
   "metadata": {},
   "source": [
    "## Change reference points "
   ]
  },
  {
   "cell_type": "code",
   "execution_count": null,
   "id": "1eaf1c7a-5dcd-4fa6-b37b-f624ba9bfa44",
   "metadata": {},
   "outputs": [],
   "source": [
    "# function to find value of new reference point in each time slice and subtract it from data array\n",
    "rref_list = []\n",
    "\n",
    "def change_ref(xarray, lat, lon):\n",
    "    reref = xarray.copy(deep=True)\n",
    "    for i in range(xarray.sizes['date']):\n",
    "        # get value from grid\n",
    "        rref_list.append(float(xarray.isel(date=i).displacement.sel(longitude=lon, latitude=lat, method=\"nearest\").values))\n",
    "    reref['displacement'] = disp_df['displacement'] - xr.DataArray(rref_list, dims='date')\n",
    "    return reref       "
   ]
  },
  {
   "cell_type": "code",
   "execution_count": null,
   "id": "108cc280-3f0e-448a-9875-70e414222ba4",
   "metadata": {},
   "outputs": [],
   "source": [
    "#Sanity check: reference point in highly degforming area\n",
    "disp_rref = change_ref(disp_df, -0.38, -91.525)"
   ]
  },
  {
   "cell_type": "code",
   "execution_count": null,
   "id": "435fbf8f-bfb8-41d5-b5ff-c8773cd2ad58",
   "metadata": {},
   "outputs": [],
   "source": [
    "# Sanity check: plot cumulative displacement at new and old reference points\n",
    "fig, ax = plt.subplots(1, 2, figsize=(15, 5))\n",
    "disp_df.isel(date=97)['displacement'].plot.imshow(ax=ax[0])\n",
    "ax[0].set_title('total displacement with original reference point')\n",
    "\n",
    "disp_rref.isel(date=97).displacement.plot.imshow(ax=ax[1])\n",
    "ax[1].set_title('total displacement with new reference point');"
   ]
  },
  {
   "cell_type": "markdown",
   "id": "5210f05b-c883-4aac-aff8-59ebcba70fb0",
   "metadata": {},
   "source": [
    "## Convert to tif for download"
   ]
  },
  {
   "cell_type": "code",
   "execution_count": null,
   "id": "bf36cb21-78e1-4dbc-a134-b919d24b48c2",
   "metadata": {},
   "outputs": [],
   "source": [
    "vel_df.rio.to_raster('des_veloc.tif')"
   ]
  },
  {
   "cell_type": "markdown",
   "id": "249ca30d-af11-4ef8-abc6-74f65c135afa",
   "metadata": {},
   "source": [
    "## Interactive displacement"
   ]
  },
  {
   "cell_type": "code",
   "execution_count": null,
   "id": "3ff3dd88-e43d-4410-888e-ec9a167c3df3",
   "metadata": {},
   "outputs": [],
   "source": [
    "import holoviews as hv\n",
    "\n",
    "hv.extension('bokeh')"
   ]
  },
  {
   "cell_type": "code",
   "execution_count": null,
   "id": "422e1bc3-3bbd-48b8-a49d-faa2650bc7d3",
   "metadata": {},
   "outputs": [],
   "source": [
    "%%output holomap='scrubber'\n",
    "%%opts Image style(cmap='RdBu_r') plot[colorbar=True]\n",
    "%%opts Image [width=500, height=400]\n",
    "hv_ds = hv.Dataset(disp_df.displacement)\n",
    "hv_ds.to(hv.Image, ['longitude', 'latitude'])"
   ]
  }
 ],
 "metadata": {
  "kernelspec": {
   "display_name": "mintpy",
   "language": "python",
   "name": "mintpy"
  },
  "language_info": {
   "codemirror_mode": {
    "name": "ipython",
    "version": 3
   },
   "file_extension": ".py",
   "mimetype": "text/x-python",
   "name": "python",
   "nbconvert_exporter": "python",
   "pygments_lexer": "ipython3",
   "version": "3.8.13"
  }
 },
 "nbformat": 4,
 "nbformat_minor": 5
}
