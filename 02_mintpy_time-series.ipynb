{
 "cells": [
  {
   "cell_type": "markdown",
   "id": "bdb38cc7-99fc-44cd-b01b-fea6ca80c76c",
   "metadata": {},
   "source": [
    "# Mintpy Time Series\n",
    "George Brencher"
   ]
  },
  {
   "cell_type": "code",
   "execution_count": null,
   "id": "959f8e4a-e292-465b-92f8-376761630f0a",
   "metadata": {},
   "outputs": [],
   "source": [
    "# Clone MintPy, create environment, install MintPy \n",
    "# git clone https://github.com/insarlab/MintPy.git\n",
    "# mamba env create -f MintPy/docs/environment.yml\n",
    "# conda activate mintpy\n",
    "# python -m ipykernel install --user --name=mintpy"
   ]
  },
  {
   "cell_type": "code",
   "execution_count": 12,
   "id": "f9af434c-5c92-4999-8192-178597895329",
   "metadata": {},
   "outputs": [],
   "source": [
    "# Import required packages\n",
    "%matplotlib inline\n",
    "import os\n",
    "import numpy as np\n",
    "import matplotlib.pyplot as plt\n",
    "import mintpy\n",
    "from mintpy.objects import ifgramStack\n",
    "from mintpy.utils import plot as pp, utils as ut\n",
    "from mintpy import view, plot_network\n",
    "from mintpy.unwrap_error_phase_closure import plot_num_triplet_with_nonzero_integer_ambiguity"
   ]
  },
  {
   "cell_type": "code",
   "execution_count": 13,
   "id": "91bfed37-3aa1-4a69-8749-6e9367d933a0",
   "metadata": {},
   "outputs": [
    {
     "name": "stdout",
     "output_type": "stream",
     "text": [
      "Go to work directory: /tmp/mintpy\n"
     ]
    }
   ],
   "source": [
    "# define work directory\n",
    "work_dir = os.path.expanduser('/tmp/mintpy')\n",
    "os.makedirs(work_dir, exist_ok=True)\n",
    "os.chdir(work_dir)\n",
    "print('Go to work directory: {}'.format(work_dir))"
   ]
  },
  {
   "cell_type": "code",
   "execution_count": 14,
   "id": "b2deae4d-e129-44e3-a800-2509157a52cb",
   "metadata": {},
   "outputs": [],
   "source": [
    "# Function to write to config file\n",
    "def write_config_file(out_file, CONFIG_TXT, mode='a'): \n",
    "    \"\"\"Write configuration files for MintPy to process ISCE products\"\"\"\n",
    "    if not os.path.isfile(out_file) or mode == 'w':\n",
    "        with open(out_file, \"w\") as fid:\n",
    "            fid.write(CONFIG_TXT)\n",
    "        print('write configuration to file: {}'.format(out_file))\n",
    "    else:\n",
    "        with open(out_file, \"a\") as fid:\n",
    "            fid.write(\"\\n\" + CONFIG_TXT)\n",
    "        print('add the following to file: \\n{}'.format(CONFIG_TXT))"
   ]
  },
  {
   "cell_type": "code",
   "execution_count": 5,
   "id": "68070c59-ee58-4830-b5f3-49591b7d897c",
   "metadata": {},
   "outputs": [
    {
     "name": "stdout",
     "output_type": "stream",
     "text": [
      "usage: smallbaselineApp.py [-h] [--dir WORKDIR] [-g] [-H] [-v] [--plot]\n",
      "                           [--start STEP] [--end STEP] [--dostep STEP]\n",
      "                           [customTemplateFile]\n",
      "\n",
      "Routine Time Series Analysis for Small Baseline InSAR Stack\n",
      "\n",
      "positional arguments:\n",
      "  customTemplateFile    custom template with option settings.\n",
      "                        ignored if the default smallbaselineApp.cfg is input.\n",
      "\n",
      "optional arguments:\n",
      "  -h, --help            show this help message and exit\n",
      "  --dir WORKDIR, --work-dir WORKDIR\n",
      "                        work directory, (default: ./).\n",
      "  -g                    generate default template (if it does not exist) and exit.\n",
      "  -H                    print the default template file and exit.\n",
      "  -v, --version         print software version and exit\n",
      "  --plot                plot results [only] without running smallbaselineApp.\n",
      "\n",
      "steps processing (start/end/dostep):\n",
      "  Command line options for steps processing with names are chosen from the following list:\n",
      "  \n",
      "  ['load_data', 'modify_network', 'reference_point', 'quick_overview', 'correct_unwrap_error']\n",
      "  ['invert_network', 'correct_LOD', 'correct_SET', 'correct_troposphere', 'deramp', 'correct_topography']\n",
      "  ['residual_RMS', 'reference_date', 'velocity', 'geocode', 'google_earth', 'hdfeos5']\n",
      "  \n",
      "  In order to use either --start or --dostep, it is necessary that a\n",
      "  previous run was done using one of the steps options to process at least\n",
      "  through the step immediately preceding the starting step of the current run.\n",
      "\n",
      "  --start STEP          start processing at the named step (default: load_data).\n",
      "  --end STEP, --stop STEP\n",
      "                        end processing at the named step (default: hdfeos5)\n",
      "  --dostep STEP         run processing at the named step only\n",
      "\n",
      "reference:\n",
      "  Yunjun, Z., H. Fattahi, and F. Amelung (2019), Small baseline InSAR time series analysis: \n",
      "  Unwrapping error correction and noise reduction, Computers & Geosciences, 133, 104331,\n",
      "  doi:10.1016/j.cageo.2019.104331.\n",
      "\n",
      "example:\n",
      "  smallbaselineApp.py                         #run with default template 'smallbaselineApp.cfg'\n",
      "  smallbaselineApp.py <custom_template>       #run with default and custom templates\n",
      "  smallbaselineApp.py -h / --help             #help\n",
      "  smallbaselineApp.py -H                      #print    default template options\n",
      "  smallbaselineApp.py -g                      #generate default template if it does not exist\n",
      "  smallbaselineApp.py -g <custom_template>    #generate/update default template based on custom template\n",
      "  smallbaselineApp.py --plot                  #plot results without run\n",
      "\n",
      "  # Run with --start/stop/dostep options\n",
      "  smallbaselineApp.py GalapagosSenDT128.template --dostep velocity  #run at step 'velocity' only\n",
      "  smallbaselineApp.py GalapagosSenDT128.template --end load_data    #end after step 'load_data'\n",
      "\u001b[0m"
     ]
    }
   ],
   "source": [
    "# View MintPy options\n",
    "!smallbaselineApp.py --help"
   ]
  },
  {
   "cell_type": "code",
   "execution_count": 19,
   "id": "e1bdb920-f2c4-40c0-93fd-2dae63ded3b2",
   "metadata": {},
   "outputs": [
    {
     "name": "stdout",
     "output_type": "stream",
     "text": [
      "write configuration to file: /tmp/mintpy/imja_august2021_SenTA12.txt\n"
     ]
    }
   ],
   "source": [
    "# Write config file for MintPy. For a list of processing options, see: \n",
    "#https://nbviewer.org/github/insarlab/MintPy-tutorial/blob/main/smallbaselineApp.ipynb\n",
    "CONFIG_TXT = '''# vim: set filetype=cfg:\n",
    "##----------------------------- SentinelStack/ISCE ---------------------##\n",
    "#ssaraopt = --platform=SENTINEL-1A,SENTINEL-1B -f 84  -s 2021-08-01, -e 2021-09-01\n",
    "#processor                       = isce\n",
    "#sentinelStack.demDir            = ../DEM\n",
    "#sentinelStack.boundingBox       = '27 28 86.3 87'\n",
    "#sentinelStack.subswath          = 1 2  # comment \n",
    "#sentinelStack.numConnections    = 2   # comment\n",
    "#sentinelStack.azimuthLooks      = 2   # comment\n",
    "#sentinelStack.rangeLooks        = 9  # comment\n",
    "#sentinelStack.filtStrength      = 0.2  # comment\n",
    "#sentinelStack.unwMethod         = snaphu  # comment\n",
    "#sentinelStack.coregistration    = auto  # comment\n",
    "\n",
    "##-------------------------------- MintPy -----------------------------##\n",
    "mintpy.load.processor        = isce\n",
    "##---------for ISCE only:\n",
    "mintpy.load.metaFile         = ../reference/IW*.xml\n",
    "mintpy.load.baselineDir      = ../baselines\n",
    "##---------interferogram datasets:\n",
    "mintpy.load.unwFile          = ../merged/interferograms/*/filt_*.unw\n",
    "mintpy.load.corFile          = ../merged/interferograms/*/filt_*.cor\n",
    "mintpy.load.connCompFile     = ../merged/interferograms/*/filt_*.unw.conncomp\n",
    "##---------geometry datasets:\n",
    "mintpy.load.demFile          = ../merged/geom_reference/hgt.rdr\n",
    "mintpy.load.lookupYFile      = ../merged/geom_reference/lat.rdr\n",
    "mintpy.load.lookupXFile      = ../merged/geom_reference/lon.rdr\n",
    "mintpy.load.incAngleFile     = ../merged/geom_reference/los.rdr\n",
    "mintpy.load.azAngleFile      = ../merged/geom_reference/los.rdr\n",
    "mintpy.load.shadowMaskFile   = ../merged/geom_reference/shadowMask.rdr\n",
    "mintpy.load.waterMaskFile    = None\n",
    "'''\n",
    "\n",
    "config_file = os.path.join('/tmp/mintpy', \"imja_august2021_SenTA12.txt\")\n",
    "write_config_file(config_file, CONFIG_TXT, mode='w')"
   ]
  },
  {
   "cell_type": "code",
   "execution_count": null,
   "id": "a2f95935-b775-4702-a220-e37205998082",
   "metadata": {},
   "outputs": [],
   "source": []
  },
  {
   "cell_type": "code",
   "execution_count": 20,
   "id": "edac677a-d0ed-4759-8ca3-46151bf195b3",
   "metadata": {},
   "outputs": [
    {
     "name": "stdout",
     "output_type": "stream",
     "text": [
      "MintPy version v1.3.2, date 2021-11-21\n",
      "--RUN-at-2022-03-08 16:03:41.058385--\n",
      "Current directory: /tmp/mintpy\n",
      "Run routine processing with smallbaselineApp.py on steps: ['load_data']\n",
      "Remaining steps: ['modify_network', 'reference_point', 'quick_overview', 'correct_unwrap_error', 'invert_network', 'correct_LOD', 'correct_SET', 'correct_troposphere', 'deramp', 'correct_topography', 'residual_RMS', 'reference_date', 'velocity', 'geocode', 'google_earth', 'hdfeos5']\n",
      "--------------------------------------------------\n",
      "Project name: imja_august2021_SenTA12\n",
      "Go to work directory: /tmp/mintpy\n",
      "copy default template file /srv/conda/envs/mintpy/lib/python3.8/site-packages/mintpy/defaults/smallbaselineApp.cfg to work directory\n",
      "read custom template file: /tmp/mintpy/imja_august2021_SenTA12.txt\n",
      "update default template based on input custom template\n",
      "    mintpy.load.processor: auto --> isce\n",
      "    mintpy.load.metaFile: auto --> ../reference/IW*.xml\n",
      "    mintpy.load.baselineDir: auto --> ../baselines\n",
      "    mintpy.load.unwFile: auto --> ../merged/interferograms/*/filt_*.unw\n",
      "    mintpy.load.corFile: auto --> ../merged/interferograms/*/filt_*.cor\n",
      "    mintpy.load.connCompFile: auto --> ../merged/interferograms/*/filt_*.unw.conncomp\n",
      "    mintpy.load.demFile: auto --> ../merged/geom_reference/hgt.rdr\n",
      "    mintpy.load.lookupYFile: auto --> ../merged/geom_reference/lat.rdr\n",
      "    mintpy.load.lookupXFile: auto --> ../merged/geom_reference/lon.rdr\n",
      "    mintpy.load.incAngleFile: auto --> ../merged/geom_reference/los.rdr\n",
      "    mintpy.load.azAngleFile: auto --> ../merged/geom_reference/los.rdr\n",
      "    mintpy.load.shadowMaskFile: auto --> ../merged/geom_reference/shadowMask.rdr\n",
      "    mintpy.load.waterMaskFile: auto --> None\n",
      "copy imja_august2021_SenTA12.txt to inputs   directory for backup.\n",
      "copy smallbaselineApp.cfg to inputs   directory for backup.\n",
      "copy imja_august2021_SenTA12.txt to pic      directory for backup.\n",
      "copy smallbaselineApp.cfg to pic      directory for backup.\n",
      "read default template file: /tmp/mintpy/smallbaselineApp.cfg\n",
      "\n",
      "\n",
      "******************** step - load_data ********************\n",
      "\n",
      "load_data.py --template /tmp/mintpy/smallbaselineApp.cfg /tmp/mintpy/imja_august2021_SenTA12.txt --project imja_august2021_SenTA12\n",
      "processor : isce\n",
      "SAR platform/sensor : Sen\n",
      "--------------------------------------------------\n",
      "prepare metadata files for isce products\n",
      "prep_isce.py -m ../reference/IW1.xml -g ../merged/geom_reference -b ../baselines -d ../merged/interferograms -f filt_*.unw --geom-files hgt.rdr lat.rdr lon.rdr los.rdr los.rdr shadowMask.rdr\n",
      "extract metadata from ISCE/topsStack xml file: ../reference/IW1.xml\n",
      "This is the Open Source version of ISCE.\n",
      "Some of the workflows depend on a separate licensed package.\n",
      "To obtain the licensed package, please make a request for ISCE\n",
      "through the website: https://download.jpl.nasa.gov/ops/request/index.cfm.\n",
      "Alternatively, if you are a member, or can become a member of WinSAR\n",
      "you may be able to obtain access to a version of the licensed sofware at\n",
      "https://winsar.unavco.org/software/isce\n",
      "extract metadata from geometry files: ['hgt.rdr', 'lat.rdr', 'lon.rdr', 'los.rdr']\n",
      "/srv/conda/envs/mintpy/lib/python3.8/site-packages/mintpy/load_data.py:710: UserWarning: prep_isce.py failed. Assuming its result exists and continue...\n",
      "  warnings.warn('prep_isce.py failed. Assuming its result exists and continue...')\n",
      "--------------------------------------------------\n",
      "searching interferometric pairs info\n",
      "input data files:\n",
      "unwrapPhase     : ../merged/interferograms/*/filt_*.unw\n",
      "coherence       : ../merged/interferograms/*/filt_*.cor\n",
      "connectComponent: ../merged/interferograms/*/filt_*.unw.conncomp\n",
      "number of unwrapPhase     : 9\n",
      "number of coherence       : 9\n",
      "number of connectComponent: 9\n",
      "Traceback (most recent call last):\n",
      "  File \"/srv/conda/envs/mintpy/bin/smallbaselineApp.py\", line 10, in <module>\n",
      "    sys.exit(main())\n",
      "  File \"/srv/conda/envs/mintpy/lib/python3.8/site-packages/mintpy/smallbaselineApp.py\", line 1270, in main\n",
      "    app.run(steps=inps.runSteps)\n",
      "  File \"/srv/conda/envs/mintpy/lib/python3.8/site-packages/mintpy/smallbaselineApp.py\", line 1035, in run\n",
      "    self.run_load_data(sname)\n",
      "  File \"/srv/conda/envs/mintpy/lib/python3.8/site-packages/mintpy/smallbaselineApp.py\", line 344, in run_load_data\n",
      "    mintpy.load_data.main(iargs)\n",
      "  File \"/srv/conda/envs/mintpy/lib/python3.8/site-packages/mintpy/load_data.py\", line 838, in main\n",
      "    stackObj = read_inps_dict2ifgram_stack_dict_object(iDict)\n",
      "  File \"/srv/conda/envs/mintpy/lib/python3.8/site-packages/mintpy/load_data.py\", line 447, in read_inps_dict2ifgram_stack_dict_object\n",
      "    date6s = readfile.read_attribute(dsPath0)['DATE12'].replace('_','-').split('-')\n",
      "KeyError: 'DATE12'\n"
     ]
    }
   ],
   "source": [
    "# Load data into MintPy\n",
    "!smallbaselineApp.py imja_august2021_SenTA12.txt --dostep load_data"
   ]
  },
  {
   "cell_type": "code",
   "execution_count": 18,
   "id": "c07a29c8-e1ac-46fa-ab1a-155dd2f06b2a",
   "metadata": {},
   "outputs": [
    {
     "name": "stdout",
     "output_type": "stream",
     "text": [
      "total 28\n",
      "-rw-r--r-- 1 jovyan jovyan  1989 Mar  7 03:42 imja_august2021.txt\n",
      "-rw-r--r-- 1 jovyan jovyan 21654 Mar  7 03:42 smallbaselineApp.cfg\n"
     ]
    }
   ],
   "source": [
    "# Examine loaded inputs to MintPy\n",
    "!ls -l inputs"
   ]
  },
  {
   "cell_type": "code",
   "execution_count": 8,
   "id": "a6a81f10-e8e3-47af-9122-daa3467b2422",
   "metadata": {},
   "outputs": [
    {
     "ename": "FileNotFoundError",
     "evalue": "input file file ./inputs/ifgramStack.h5 NOT exist!",
     "output_type": "error",
     "traceback": [
      "\u001b[0;31m---------------------------------------------------------------------------\u001b[0m",
      "\u001b[0;31mFileNotFoundError\u001b[0m                         Traceback (most recent call last)",
      "Input \u001b[0;32mIn [8]\u001b[0m, in \u001b[0;36m<module>\u001b[0;34m\u001b[0m\n\u001b[1;32m      1\u001b[0m \u001b[38;5;66;03m# Plot all data related to one interferometric pair\u001b[39;00m\n\u001b[0;32m----> 2\u001b[0m \u001b[43mview\u001b[49m\u001b[38;5;241;43m.\u001b[39;49m\u001b[43mmain\u001b[49m\u001b[43m(\u001b[49m\u001b[38;5;124;43m'\u001b[39;49m\u001b[38;5;124;43m./inputs/ifgramStack.h5 20210806_20210818 --ncols 3\u001b[39;49m\u001b[38;5;124;43m'\u001b[39;49m\u001b[38;5;241;43m.\u001b[39;49m\u001b[43msplit\u001b[49m\u001b[43m(\u001b[49m\u001b[43m)\u001b[49m\u001b[43m)\u001b[49m\n",
      "File \u001b[0;32m/srv/conda/envs/notebook/lib/python3.8/site-packages/mintpy/view.py:1663\u001b[0m, in \u001b[0;36mmain\u001b[0;34m(iargs)\u001b[0m\n\u001b[1;32m   1661\u001b[0m \u001b[38;5;28;01mdef\u001b[39;00m \u001b[38;5;21mmain\u001b[39m(iargs\u001b[38;5;241m=\u001b[39m\u001b[38;5;28;01mNone\u001b[39;00m):\n\u001b[1;32m   1662\u001b[0m     obj \u001b[38;5;241m=\u001b[39m viewer(iargs\u001b[38;5;241m=\u001b[39miargs)\n\u001b[0;32m-> 1663\u001b[0m     \u001b[43mobj\u001b[49m\u001b[38;5;241;43m.\u001b[39;49m\u001b[43mconfigure\u001b[49m\u001b[43m(\u001b[49m\u001b[43m)\u001b[49m\n\u001b[1;32m   1664\u001b[0m     \u001b[38;5;28;01mif\u001b[39;00m obj\u001b[38;5;241m.\u001b[39mflag \u001b[38;5;241m==\u001b[39m \u001b[38;5;124m'\u001b[39m\u001b[38;5;124mrun\u001b[39m\u001b[38;5;124m'\u001b[39m:\n\u001b[1;32m   1665\u001b[0m         obj\u001b[38;5;241m.\u001b[39mplot()\n",
      "File \u001b[0;32m/srv/conda/envs/notebook/lib/python3.8/site-packages/mintpy/view.py:1538\u001b[0m, in \u001b[0;36mviewer.configure\u001b[0;34m(self)\u001b[0m\n\u001b[1;32m   1537\u001b[0m \u001b[38;5;28;01mdef\u001b[39;00m \u001b[38;5;21mconfigure\u001b[39m(\u001b[38;5;28mself\u001b[39m):\n\u001b[0;32m-> 1538\u001b[0m     inps \u001b[38;5;241m=\u001b[39m \u001b[43mcmd_line_parse\u001b[49m\u001b[43m(\u001b[49m\u001b[38;5;28;43mself\u001b[39;49m\u001b[38;5;241;43m.\u001b[39;49m\u001b[43miargs\u001b[49m\u001b[43m)\u001b[49m\n\u001b[1;32m   1539\u001b[0m     inps\u001b[38;5;241m.\u001b[39margv \u001b[38;5;241m=\u001b[39m \u001b[38;5;28mlist\u001b[39m(\u001b[38;5;28mself\u001b[39m\u001b[38;5;241m.\u001b[39miargs)\n\u001b[1;32m   1540\u001b[0m     inps, \u001b[38;5;28mself\u001b[39m\u001b[38;5;241m.\u001b[39matr \u001b[38;5;241m=\u001b[39m read_input_file_info(inps)\n",
      "File \u001b[0;32m/srv/conda/envs/notebook/lib/python3.8/site-packages/mintpy/view.py:147\u001b[0m, in \u001b[0;36mcmd_line_parse\u001b[0;34m(iargs)\u001b[0m\n\u001b[1;32m    145\u001b[0m     fname \u001b[38;5;241m=\u001b[39m \u001b[38;5;28mvars\u001b[39m(inps)[key]\n\u001b[1;32m    146\u001b[0m     \u001b[38;5;28;01mif\u001b[39;00m fname \u001b[38;5;129;01mnot\u001b[39;00m \u001b[38;5;129;01min\u001b[39;00m [\u001b[38;5;28;01mNone\u001b[39;00m, \u001b[38;5;124m'\u001b[39m\u001b[38;5;124mno\u001b[39m\u001b[38;5;124m'\u001b[39m] \u001b[38;5;129;01mand\u001b[39;00m \u001b[38;5;129;01mnot\u001b[39;00m os\u001b[38;5;241m.\u001b[39mpath\u001b[38;5;241m.\u001b[39misfile(fname):\n\u001b[0;32m--> 147\u001b[0m         \u001b[38;5;28;01mraise\u001b[39;00m \u001b[38;5;167;01mFileNotFoundError\u001b[39;00m(\u001b[38;5;124m'\u001b[39m\u001b[38;5;124minput \u001b[39m\u001b[38;5;132;01m{}\u001b[39;00m\u001b[38;5;124m file \u001b[39m\u001b[38;5;132;01m{}\u001b[39;00m\u001b[38;5;124m NOT exist!\u001b[39m\u001b[38;5;124m'\u001b[39m\u001b[38;5;241m.\u001b[39mformat(key, fname))\n\u001b[1;32m    149\u001b[0m \u001b[38;5;66;03m# --exclude\u001b[39;00m\n\u001b[1;32m    150\u001b[0m \u001b[38;5;28;01mif\u001b[39;00m inps\u001b[38;5;241m.\u001b[39mexDsetList:\n",
      "\u001b[0;31mFileNotFoundError\u001b[0m: input file file ./inputs/ifgramStack.h5 NOT exist!"
     ]
    }
   ],
   "source": [
    "# Plot all data related to one interferometric pair\n",
    "view.main('./inputs/ifgramStack.h5 20210806_20210818 --ncols 3'.split())"
   ]
  },
  {
   "cell_type": "code",
   "execution_count": null,
   "id": "f269f331-5839-42e3-a16a-4a93a68e2e29",
   "metadata": {},
   "outputs": [],
   "source": [
    "# Examine radar geometry files\n",
    "view.main('./inputs/geometryRadar.h5'.split())"
   ]
  },
  {
   "cell_type": "code",
   "execution_count": null,
   "id": "d4e6015f-4ec9-4afa-bea0-367da7c2c2bd",
   "metadata": {},
   "outputs": [],
   "source": [
    "# Optional step prior to inversion. Remove interferograms based on coherence, temporal/perpendicular baselines, date, etc. \n",
    "!smallbaselineApp.py imja_august2021.txt --dostep modify_network"
   ]
  },
  {
   "cell_type": "code",
   "execution_count": null,
   "id": "368e13b4-07b7-48b5-9fa1-fcbf9e84dc22",
   "metadata": {},
   "outputs": [],
   "source": [
    "# Examine interferogram network \n",
    "plot_network.main(['./inputs/ifgramStack.h5'])"
   ]
  },
  {
   "cell_type": "code",
   "execution_count": null,
   "id": "5a959245-5dbf-4beb-a13b-7a6e696777a9",
   "metadata": {},
   "outputs": [],
   "source": [
    "# Select reference point. Should be coherent and close to the aoi. \n",
    "!smallbaselineApp.py imja_august2021.txt --dostep reference_point"
   ]
  },
  {
   "cell_type": "code",
   "execution_count": null,
   "id": "7594432d-2f21-4f67-acb6-32cf13c2cb9c",
   "metadata": {},
   "outputs": [],
   "source": [
    "# Without inversion, quickly assesses possible deformation and phase unwrapping error\n",
    "!smallbaselineApp.py imja_august2021.txt --dostep quick_overview"
   ]
  },
  {
   "cell_type": "code",
   "execution_count": null,
   "id": "7e8783bb-dc78-4083-b67c-19c6d39494e0",
   "metadata": {},
   "outputs": [],
   "source": [
    "# Plot results of phase stacking \n",
    "view.main('avgPhaseVelocity.h5'.split())"
   ]
  },
  {
   "cell_type": "code",
   "execution_count": null,
   "id": "29a7a280-c3cf-4588-98d0-60826934ab3a",
   "metadata": {},
   "outputs": [],
   "source": [
    "# Plot number of triplets with nonzero integer ambiguity, related to unwrapping error\n",
    "plot_num_triplet_with_nonzero_integer_ambiguity('numTriNonzeroIntAmbiguity.h5', display=True, fig_size=[12, 4])"
   ]
  },
  {
   "cell_type": "code",
   "execution_count": null,
   "id": "37329333-b737-4441-90b8-5e1665295930",
   "metadata": {},
   "outputs": [],
   "source": [
    "# Do time series inversion. \n",
    "!smallbaselineApp.py imja_august2021.txt --dostep invert_network"
   ]
  },
  {
   "cell_type": "code",
   "execution_count": null,
   "id": "2015db5a-f296-4d6b-9828-ee0a344c75f5",
   "metadata": {},
   "outputs": [],
   "source": [
    "# Plot the raw phase time-series re-wrapped into (-5, 5) cm\n",
    "view.main('timeseries.h5 --wrap --wrap-range -5 5 -u cm --notitle --notick --noaxis'.split())"
   ]
  },
  {
   "cell_type": "code",
   "execution_count": null,
   "id": "14f32901-5019-4e0b-b57d-963cc8462004",
   "metadata": {},
   "outputs": [],
   "source": [
    "# Plot time series temporal coherence and mask coherence \n",
    "view.main('temporalCoherence.h5 -c gray --notick --noaxis --noverbose'.split())\n",
    "view.main('maskTempCoh.h5 -c gray --notick --noaxis --noverbose'.split())"
   ]
  },
  {
   "cell_type": "code",
   "execution_count": null,
   "id": "ecdbe7f6-9e8c-4a64-9324-a9f6b2df698b",
   "metadata": {},
   "outputs": [],
   "source": [
    "# Correct for tropospheric correction. Copernicus Climate Data Store (CDS) registration is needed to access ERA5 data. \n",
    "# To create account and set up api, follow steps at https://github.com/insarlab/pyaps#2-account-setup-for-era5\n",
    "!smallbaselineApp.py imja_august2021.txt --dostep correct_troposphere"
   ]
  },
  {
   "cell_type": "code",
   "execution_count": null,
   "id": "a0878937-d4da-4f9c-a648-e65b3b7ae6ba",
   "metadata": {},
   "outputs": [],
   "source": [
    "# View tropospheric corrected time series\n",
    "view.main('timeseries_ERA5.h5 --wrap --wrap-range -5 5 --notitle --notick --noaxis'.split())"
   ]
  },
  {
   "cell_type": "code",
   "execution_count": null,
   "id": "d688bcaf-9748-4b7a-8ba1-f7bc9d6d065e",
   "metadata": {},
   "outputs": [],
   "source": [
    "# Remove linear or quadratic ramps based on the phase of reliable pixels. Recommended for localized deformation signals\n",
    "!smallbaselineApp.py imja_august2021.txt --dostep deramp"
   ]
  },
  {
   "cell_type": "code",
   "execution_count": null,
   "id": "914ec588-7dfe-4634-8441-b5329d52fbea",
   "metadata": {},
   "outputs": [],
   "source": [
    "# View deramped time series\n",
    "view.main('timeseries_ERA5_ramp.h5 --wrap --wrap-range -5 5 --notitle --notick --noaxis'.split())"
   ]
  },
  {
   "cell_type": "code",
   "execution_count": null,
   "id": "4d534b41-0e1e-4107-9d7b-33aae5aa4f0c",
   "metadata": {},
   "outputs": [],
   "source": [
    "# Correct phase residual caused by DEM error\n",
    "!smallbaselineApp.py imja_august2021.txt --dostep correct_topography"
   ]
  },
  {
   "cell_type": "code",
   "execution_count": null,
   "id": "a32aeace-096c-42ad-a57e-cae1d022c696",
   "metadata": {},
   "outputs": [],
   "source": [
    "# View DEM error-corrected time series\n",
    "view.main('timeseries_ERA5_ramp_demErr.h5 --wrap --wrap-range -5 5 --notitle --notick --noaxis'.split())"
   ]
  },
  {
   "cell_type": "code",
   "execution_count": null,
   "id": "92dd5479-2fe6-4a9c-b50a-8c68744adc65",
   "metadata": {},
   "outputs": [],
   "source": [
    "# Calculate average velocity of time series \n",
    "!smallbaselineApp.py imja_august2021.txt --dostep velocity"
   ]
  },
  {
   "cell_type": "code",
   "execution_count": null,
   "id": "68d5225d-f9b2-4e62-8773-f279feabb4a1",
   "metadata": {},
   "outputs": [],
   "source": [
    "# View original and troposphere corrected velocities\n",
    "view.main('velocity.h5 --notick --noaxis --noverbose'.split())\n",
    "view.main('velocityERA5.h5 --notick --noaxis --noverbose'.split())"
   ]
  },
  {
   "cell_type": "code",
   "execution_count": null,
   "id": "e1f27c7e-02f6-4590-9a7c-111680213de8",
   "metadata": {},
   "outputs": [],
   "source": [
    "# Geocode outputs\n",
    "!smallbaselineApp.py imja_august2021.txt --dostep geocode"
   ]
  },
  {
   "cell_type": "code",
   "execution_count": null,
   "id": "e92762b5-123b-415c-ad97-85bd60668f7f",
   "metadata": {},
   "outputs": [],
   "source": [
    "# View geocoded outputs\n",
    "!ls -l ./geo"
   ]
  },
  {
   "cell_type": "code",
   "execution_count": null,
   "id": "735439d7-3ade-413d-9d80-b3715a60a08f",
   "metadata": {},
   "outputs": [],
   "source": [
    "# Plot geocoded velocity \n",
    "view.main('./geo/geo_velocity.h5 velocity --dem ./geo/geo_geometryRadar.h5 --shade-exag 0.05 --figsize 12 12 --notitle --notick --noaxis'.split())"
   ]
  }
 ],
 "metadata": {
  "kernelspec": {
   "display_name": "Python 3 (ipykernel)",
   "language": "python",
   "name": "python3"
  },
  "language_info": {
   "codemirror_mode": {
    "name": "ipython",
    "version": 3
   },
   "file_extension": ".py",
   "mimetype": "text/x-python",
   "name": "python",
   "nbconvert_exporter": "python",
   "pygments_lexer": "ipython3",
   "version": "3.8.12"
  }
 },
 "nbformat": 4,
 "nbformat_minor": 5
}
