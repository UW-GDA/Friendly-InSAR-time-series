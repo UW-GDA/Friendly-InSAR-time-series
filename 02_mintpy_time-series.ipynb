{
 "cells": [
  {
   "cell_type": "markdown",
   "id": "bdb38cc7-99fc-44cd-b01b-fea6ca80c76c",
   "metadata": {},
   "source": [
    "# Mintpy Time Series\n",
    "George Brencher"
   ]
  },
  {
   "cell_type": "code",
   "execution_count": null,
   "id": "dae9c2ef-532d-4b46-9ab0-9bddd801ea30",
   "metadata": {},
   "outputs": [],
   "source": [
    "# Install MintPy and PyAPS\n",
    "!conda install -c conda-forge mintpy\n",
    "!conda install -c conda-forge pyaps3"
   ]
  },
  {
   "cell_type": "code",
   "execution_count": null,
   "id": "f9af434c-5c92-4999-8192-178597895329",
   "metadata": {},
   "outputs": [],
   "source": [
    "# Import required packages\n",
    "%matplotlib inline\n",
    "import os\n",
    "import numpy as np\n",
    "import matplotlib.pyplot as plt\n",
    "import mintpy\n",
    "from mintpy.objects import ifgramStack\n",
    "from mintpy.utils import plot as pp, utils as ut\n",
    "from mintpy import view, plot_network\n",
    "from mintpy.unwrap_error_phase_closure import plot_num_triplet_with_nonzero_integer_ambiguity"
   ]
  },
  {
   "cell_type": "code",
   "execution_count": null,
   "id": "b2deae4d-e129-44e3-a800-2509157a52cb",
   "metadata": {},
   "outputs": [],
   "source": [
    "# Function to write to config file\n",
    "def write_config_file(out_file, CONFIG_TXT, mode='a'): \n",
    "    \"\"\"Write configuration files for MintPy to process ISCE products\"\"\"\n",
    "    if not os.path.isfile(out_file) or mode == 'w':\n",
    "        with open(out_file, \"w\") as fid:\n",
    "            fid.write(CONFIG_TXT)\n",
    "        print('write configuration to file: {}'.format(out_file))\n",
    "    else:\n",
    "        with open(out_file, \"a\") as fid:\n",
    "            fid.write(\"\\n\" + CONFIG_TXT)\n",
    "        print('add the following to file: \\n{}'.format(CONFIG_TXT))"
   ]
  },
  {
   "cell_type": "code",
   "execution_count": null,
   "id": "461f09d7-3e67-4636-bc25-33065919e7dd",
   "metadata": {},
   "outputs": [],
   "source": [
    "# Create required directory\n",
    "os.chdir('/tmp')\n",
    "os.makedirs('mintpy')\n",
    "os.chdir('/tmp/mintpy')"
   ]
  },
  {
   "cell_type": "code",
   "execution_count": null,
   "id": "68070c59-ee58-4830-b5f3-49591b7d897c",
   "metadata": {},
   "outputs": [],
   "source": [
    "# View MintPy options\n",
    "!smallbaselineApp.py --help"
   ]
  },
  {
   "cell_type": "code",
   "execution_count": null,
   "id": "e1bdb920-f2c4-40c0-93fd-2dae63ded3b2",
   "metadata": {},
   "outputs": [],
   "source": [
    "# Write config file for MintPy. For a list of processing options, see: \n",
    "#https://nbviewer.org/github/insarlab/MintPy-tutorial/blob/main/smallbaselineApp.ipynb\n",
    "CONFIG_TXT = '''# vim: set filetype=cfg:\n",
    "##----------------------------- SentinelStack/ISCE ---------------------##\n",
    "processor                       = isce\n",
    "sentinelStack.demDir            = /tmp/DEM\n",
    "sentinelStack.boundingBox       = '27 28 86.3 87'\n",
    "sentinelStack.subswath          = 1 2  # comment \n",
    "sentinelStack.numConnections    = 2   # comment\n",
    "sentinelStack.azimuthLooks      = 2   # comment\n",
    "sentinelStack.rangeLooks        = 9  # comment\n",
    "sentinelStack.filtStrength      = 0.2  # comment\n",
    "sentinelStack.unwMethod         = snaphu  # comment\n",
    "sentinelStack.coregistration    = auto  # comment\n",
    "\n",
    "##-------------------------------- MintPy -----------------------------##\n",
    "mintpy.load.processor        = isce\n",
    "mintpy.load.updateMode       = auto  #[yes / no], auto for yes, skip re-loading if HDF5 files are complete\n",
    "mintpy.load.compression      = auto  #[gzip / lzf / no], auto for no.\n",
    "##---------for ISCE only:\n",
    "mintpy.load.metaFile         = /tmp/stack/IW*.xml\n",
    "mintpy.load.baselineDir      = /tmp/baselines\n",
    "##---------interferogram datasets:\n",
    "mintpy.load.unwFile          = /tmp/merged/interferograms/*/geo_filt_*.unw\n",
    "mintpy.load.corFile          = /tmp/merged/interferograms/*/geo_filt_*.cor\n",
    "mintpy.load.connCompFile     = /tmp/merged/interferograms/*/geo_filt_*.unw.conncomp\n",
    "##---------geometry datasets:\n",
    "mintpy.load.demFile          = /tmp/merged/geom_reference/hgt.rdr\n",
    "mintpy.load.lookupYFile      = /tmp/merged/geom_master/lat.rdr\n",
    "mintpy.load.lookupXFile      = /tmp/merged/geom_reference/lon.rdr\n",
    "mintpy.load.incAngleFile     = /tmp/merged/geom_reference/los.rdr\n",
    "mintpy.load.azAngleFile      = /tmp/merged/geom_reference/los.rdr\n",
    "mintpy.load.shadowMaskFile   = /tmp/merged/geom_reference/shadowMask.rdr\n",
    "mintpy.load.waterMaskFile    = None\n",
    "\n",
    "mintpy.reference.lalo        = 27.905810, 86.911164 #update with reference point in radar coordinates\n",
    "mintpy.subset.lalo = 27.86:28.00,86.80:87.00    #[31.5:32.5,130.5:131.0 / no], auto for no\n",
    "'''\n",
    "\n",
    "config_file = os.path.join('/tmp/mintpy', \"imja_august2021.txt\")\n",
    "write_config_file(config_file, CONFIG_TXT, mode='w')"
   ]
  },
  {
   "cell_type": "code",
   "execution_count": null,
   "id": "edac677a-d0ed-4759-8ca3-46151bf195b3",
   "metadata": {},
   "outputs": [],
   "source": [
    "# Load data into MintPy\n",
    "!smallbaselineApp.py imja_august2021.txt --dostep load_data"
   ]
  },
  {
   "cell_type": "code",
   "execution_count": null,
   "id": "c07a29c8-e1ac-46fa-ab1a-155dd2f06b2a",
   "metadata": {},
   "outputs": [],
   "source": [
    "# Examine loaded inputs to MintPy\n",
    "!ls -l inputs"
   ]
  },
  {
   "cell_type": "code",
   "execution_count": null,
   "id": "a6a81f10-e8e3-47af-9122-daa3467b2422",
   "metadata": {},
   "outputs": [],
   "source": [
    "# Plot all data related to one interferometric pair\n",
    "view.main('./inputs/ifgramStack.h5 20210806_20210818 --ncols 3'.split())"
   ]
  },
  {
   "cell_type": "code",
   "execution_count": null,
   "id": "f269f331-5839-42e3-a16a-4a93a68e2e29",
   "metadata": {},
   "outputs": [],
   "source": [
    "# Examine radar geometry files\n",
    "view.main('./inputs/geometryRadar.h5'.split())"
   ]
  },
  {
   "cell_type": "code",
   "execution_count": null,
   "id": "d4e6015f-4ec9-4afa-bea0-367da7c2c2bd",
   "metadata": {},
   "outputs": [],
   "source": [
    "# Optional step prior to inversion. Remove interferograms based on coherence, temporal/perpendicular baselines, date, etc. \n",
    "!smallbaselineApp.py imja_august2021.txt --dostep modify_network"
   ]
  },
  {
   "cell_type": "code",
   "execution_count": null,
   "id": "368e13b4-07b7-48b5-9fa1-fcbf9e84dc22",
   "metadata": {},
   "outputs": [],
   "source": [
    "# Examine interferogram network \n",
    "plot_network.main(['./inputs/ifgramStack.h5'])"
   ]
  },
  {
   "cell_type": "code",
   "execution_count": null,
   "id": "5a959245-5dbf-4beb-a13b-7a6e696777a9",
   "metadata": {},
   "outputs": [],
   "source": [
    "# Select reference point. Should be coherent and close to the aoi. \n",
    "!smallbaselineApp.py imja_august2021.txt --dostep reference_point"
   ]
  },
  {
   "cell_type": "code",
   "execution_count": null,
   "id": "7594432d-2f21-4f67-acb6-32cf13c2cb9c",
   "metadata": {},
   "outputs": [],
   "source": [
    "# Without inversion, quickly assesses possible deformation and phase unwrapping error\n",
    "!smallbaselineApp.py imja_august2021.txt --dostep quick_overview"
   ]
  },
  {
   "cell_type": "code",
   "execution_count": null,
   "id": "7e8783bb-dc78-4083-b67c-19c6d39494e0",
   "metadata": {},
   "outputs": [],
   "source": [
    "# Plot results of phase stacking \n",
    "view.main('avgPhaseVelocity.h5'.split())"
   ]
  },
  {
   "cell_type": "code",
   "execution_count": null,
   "id": "29a7a280-c3cf-4588-98d0-60826934ab3a",
   "metadata": {},
   "outputs": [],
   "source": [
    "# Plot number of triplets with nonzero integer ambiguity, related to unwrapping error\n",
    "plot_num_triplet_with_nonzero_integer_ambiguity('numTriNonzeroIntAmbiguity.h5', display=True, fig_size=[12, 4])"
   ]
  },
  {
   "cell_type": "code",
   "execution_count": null,
   "id": "37329333-b737-4441-90b8-5e1665295930",
   "metadata": {},
   "outputs": [],
   "source": [
    "# Do time series inversion. \n",
    "!smallbaselineApp.py imja_august2021.txt --dostep invert_network"
   ]
  },
  {
   "cell_type": "code",
   "execution_count": null,
   "id": "2015db5a-f296-4d6b-9828-ee0a344c75f5",
   "metadata": {},
   "outputs": [],
   "source": [
    "# Plot the raw phase time-series re-wrapped into (-5, 5) cm\n",
    "view.main('timeseries.h5 --wrap --wrap-range -5 5 -u cm --notitle --notick --noaxis'.split())"
   ]
  },
  {
   "cell_type": "code",
   "execution_count": null,
   "id": "14f32901-5019-4e0b-b57d-963cc8462004",
   "metadata": {},
   "outputs": [],
   "source": [
    "# Plot time series temporal coherence and mask coherence \n",
    "view.main('temporalCoherence.h5 -c gray --notick --noaxis --noverbose'.split())\n",
    "view.main('maskTempCoh.h5 -c gray --notick --noaxis --noverbose'.split())"
   ]
  },
  {
   "cell_type": "code",
   "execution_count": null,
   "id": "ecdbe7f6-9e8c-4a64-9324-a9f6b2df698b",
   "metadata": {},
   "outputs": [],
   "source": [
    "# Correct for tropospheric correction. Copernicus Climate Data Store (CDS) registration is needed to access ERA5 data. \n",
    "# To create account and set up api, follow steps at https://github.com/insarlab/pyaps#2-account-setup-for-era5\n",
    "!smallbaselineApp.py imja_august2021.txt --dostep correct_troposphere"
   ]
  },
  {
   "cell_type": "code",
   "execution_count": null,
   "id": "a0878937-d4da-4f9c-a648-e65b3b7ae6ba",
   "metadata": {},
   "outputs": [],
   "source": [
    "# View tropospheric corrected time series\n",
    "view.main('timeseries_ERA5.h5 --wrap --wrap-range -5 5 --notitle --notick --noaxis'.split())"
   ]
  },
  {
   "cell_type": "code",
   "execution_count": null,
   "id": "d688bcaf-9748-4b7a-8ba1-f7bc9d6d065e",
   "metadata": {},
   "outputs": [],
   "source": [
    "# Remove linear or quadratic ramps based on the phase of reliable pixels. Recommended for localized deformation signals\n",
    "!smallbaselineApp.py imja_august2021.txt --dostep deramp"
   ]
  },
  {
   "cell_type": "code",
   "execution_count": null,
   "id": "914ec588-7dfe-4634-8441-b5329d52fbea",
   "metadata": {},
   "outputs": [],
   "source": [
    "# View deramped time series\n",
    "view.main('timeseries_ERA5_ramp.h5 --wrap --wrap-range -5 5 --notitle --notick --noaxis'.split())"
   ]
  },
  {
   "cell_type": "code",
   "execution_count": null,
   "id": "4d534b41-0e1e-4107-9d7b-33aae5aa4f0c",
   "metadata": {},
   "outputs": [],
   "source": [
    "# Correct phase residual caused by DEM error\n",
    "!smallbaselineApp.py imja_august2021.txt --dostep correct_topography"
   ]
  },
  {
   "cell_type": "code",
   "execution_count": null,
   "id": "a32aeace-096c-42ad-a57e-cae1d022c696",
   "metadata": {},
   "outputs": [],
   "source": [
    "# View DEM error-corrected time series\n",
    "view.main('timeseries_ERA5_ramp_demErr.h5 --wrap --wrap-range -5 5 --notitle --notick --noaxis'.split())"
   ]
  },
  {
   "cell_type": "code",
   "execution_count": null,
   "id": "92dd5479-2fe6-4a9c-b50a-8c68744adc65",
   "metadata": {},
   "outputs": [],
   "source": [
    "# Calculate average velocity of time series \n",
    "!smallbaselineApp.py imja_august2021.txt --dostep velocity"
   ]
  },
  {
   "cell_type": "code",
   "execution_count": null,
   "id": "68d5225d-f9b2-4e62-8773-f279feabb4a1",
   "metadata": {},
   "outputs": [],
   "source": [
    "# View original and troposphere corrected velocities\n",
    "view.main('velocity.h5 --notick --noaxis --noverbose'.split())\n",
    "view.main('velocityERA5.h5 --notick --noaxis --noverbose'.split())"
   ]
  },
  {
   "cell_type": "code",
   "execution_count": null,
   "id": "e1f27c7e-02f6-4590-9a7c-111680213de8",
   "metadata": {},
   "outputs": [],
   "source": [
    "# Geocode outputs\n",
    "!smallbaselineApp.py imja_august2021.txt --dostep geocode"
   ]
  }
 ],
 "metadata": {
  "kernelspec": {
   "display_name": "Python [conda env:isce2]",
   "language": "python",
   "name": "conda-env-isce2-py"
  },
  "language_info": {
   "codemirror_mode": {
    "name": "ipython",
    "version": 3
   },
   "file_extension": ".py",
   "mimetype": "text/x-python",
   "name": "python",
   "nbconvert_exporter": "python",
   "pygments_lexer": "ipython3",
   "version": "3.9.10"
  }
 },
 "nbformat": 4,
 "nbformat_minor": 5
}
