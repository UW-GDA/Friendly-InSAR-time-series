{
 "cells": [
  {
   "cell_type": "markdown",
   "id": "bdb38cc7-99fc-44cd-b01b-fea6ca80c76c",
   "metadata": {},
   "source": [
    "# Mintpy Time Series\n",
    "George Brencher"
   ]
  },
  {
   "cell_type": "code",
   "execution_count": null,
   "id": "959f8e4a-e292-465b-92f8-376761630f0a",
   "metadata": {
    "scrolled": true,
    "tags": []
   },
   "outputs": [],
   "source": [
    "# Clone MintPy, create environment, install MintPy. Environment creation takes 10-15 min\n",
    "# git clone https://github.com/insarlab/MintPy.git\n",
    "!mamba env create -f MintPy/docs/environment.yml\n",
    "!conda activate mintpy\n",
    "!python -m ipykernel install --user --name=mintpy"
   ]
  },
  {
   "cell_type": "code",
   "execution_count": null,
   "id": "f9af434c-5c92-4999-8192-178597895329",
   "metadata": {},
   "outputs": [],
   "source": [
    "# Import required packages\n",
    "%matplotlib inline\n",
    "import os\n",
    "import numpy as np\n",
    "import matplotlib.pyplot as plt\n",
    "import mintpy\n",
    "from mintpy.objects import ifgramStack\n",
    "from mintpy.utils import plot as pp, utils as ut\n",
    "from mintpy import view, plot_network\n",
    "from mintpy.unwrap_error_phase_closure import plot_num_triplet_with_nonzero_integer_ambiguity"
   ]
  },
  {
   "cell_type": "code",
   "execution_count": null,
   "id": "ec2e543c-7d85-43ed-9a9f-81ae461b7241",
   "metadata": {},
   "outputs": [],
   "source": [
    "# download example dataset, since topsStack is not working correctly\n",
    "if not os.path.exists('/tmp/data'):\n",
    "        os.makedirs('/tmp/data')\n",
    "\n",
    "os.chdir('/tmp/data')"
   ]
  },
  {
   "cell_type": "code",
   "execution_count": null,
   "id": "3f2273a0-ddf9-4876-9fa3-e1513d2b4587",
   "metadata": {},
   "outputs": [],
   "source": [
    "# grabbing example interferogram stack\n",
    "url = 'https://zenodo.org/record/3952953/files/FernandinaSenDT128.tar.xz'\n",
    "tar_file = os.path.basename(url)\n",
    "proj_name = tar_file.split('.')[0]\n",
    "if not os.path.isfile(tar_file):\n",
    "    !wget {url}\n",
    "else:\n",
    "    print('{} exists, skip re-download.'.format(tar_file))\n",
    "\n",
    "# uncompress example dataset\n",
    "if not os.path.isdir(proj_name):\n",
    "    print('uncompressing the tar file ...')\n",
    "    !tar -xJf {tar_file}"
   ]
  },
  {
   "cell_type": "code",
   "execution_count": null,
   "id": "adc0e03c-f656-42d6-af8e-d3efe296643e",
   "metadata": {},
   "outputs": [],
   "source": [
    "# create directory for MintPy\n",
    "os.chdir('/tmp')\n",
    "\n",
    "if not os.path.exists('/tmp/mintpy'):\n",
    "        os.makedirs('/tmp/mintpy')\n",
    "\n",
    "os.chdir('/tmp/mintpy')"
   ]
  },
  {
   "cell_type": "code",
   "execution_count": null,
   "id": "b2deae4d-e129-44e3-a800-2509157a52cb",
   "metadata": {},
   "outputs": [],
   "source": [
    "# Function to write to MintPy config file\n",
    "def write_config_file(out_file, CONFIG_TXT, mode='a'): \n",
    "    \"\"\"Write configuration files for MintPy to process ISCE products\"\"\"\n",
    "    if not os.path.isfile(out_file) or mode == 'w':\n",
    "        with open(out_file, \"w\") as fid:\n",
    "            fid.write(CONFIG_TXT)\n",
    "        print('write configuration to file: {}'.format(out_file))\n",
    "    else:\n",
    "        with open(out_file, \"a\") as fid:\n",
    "            fid.write(\"\\n\" + CONFIG_TXT)\n",
    "        print('add the following to file: \\n{}'.format(CONFIG_TXT))"
   ]
  },
  {
   "cell_type": "code",
   "execution_count": null,
   "id": "e1bdb920-f2c4-40c0-93fd-2dae63ded3b2",
   "metadata": {},
   "outputs": [],
   "source": [
    "# Write config file for MintPy. Needs to be parameterized with paths and desired options.\n",
    "# For a list of processing options, see: \n",
    "#https://nbviewer.org/github/insarlab/MintPy-tutorial/blob/main/smallbaselineApp.ipynb\n",
    "CONFIG_TXT = '''# vim: set filetype=cfg:\n",
    "##----------------------------- SentinelStack/ISCE ---------------------##\n",
    "#ssaraopt = --platform=SENTINEL-1A,SENTINEL-1B -r 128 -f 589,590,591,592,593  -e 2017-07-01\n",
    "#sentinelStack.boundingBox      = '-1 0.15 -91.6 -90.9'\n",
    "#sentinelStack.subswath         = 1 2     # comment \n",
    "#sentinelStack.numConnections   = 5       # comment\n",
    "#sentinelStack.azimuthLooks     = 5       # comment\n",
    "#sentinelStack.rangeLooks       = 15      # comment\n",
    "#sentinelStack.filtStrength     = 0.2     # comment\n",
    "#sentinelStack.unwMethod        = snaphu  # comment\n",
    "#sentinelStack.coregistration   = auto    # comment\n",
    "#subset.y0:y1,x0:x1 = 1150:1600,1070:1670\n",
    "\n",
    "##-------------------------------- MintPy -----------------------------##\n",
    "########## 1. Load Data (--load to exit after this step)\n",
    "## load_data.py -H to check more details and example inputs.\n",
    "mintpy.load.processor        = isce\n",
    "##---------for ISCE only:\n",
    "mintpy.load.metaFile         = ../data/FernandinaSenDT128/reference/IW*.xml\n",
    "mintpy.load.baselineDir      = ../data/FernandinaSenDT128/baselines\n",
    "##---------interferogram datasets:\n",
    "mintpy.load.unwFile          = ../data/FernandinaSenDT128/merged/interferograms/*/filt_*.unw\n",
    "mintpy.load.corFile          = ../data/FernandinaSenDT128/merged/interferograms/*/filt_*.cor\n",
    "mintpy.load.connCompFile     = ../data/FernandinaSenDT128/merged/interferograms/*/filt_*.unw.conncomp\n",
    "##---------geometry datasets:\n",
    "mintpy.load.demFile          = ../data/FernandinaSenDT128/merged/geom_reference/hgt.rdr\n",
    "mintpy.load.lookupYFile      = ../data/FernandinaSenDT128/merged/geom_reference/lat.rdr\n",
    "mintpy.load.lookupXFile      = ../data/FernandinaSenDT128/merged/geom_reference/lon.rdr\n",
    "mintpy.load.incAngleFile     = ../data/FernandinaSenDT128/merged/geom_reference/los.rdr\n",
    "mintpy.load.azAngleFile      = ../data/FernandinaSenDT128/merged/geom_reference/los.rdr\n",
    "mintpy.load.shadowMaskFile   = ../data/FernandinaSenDT128/merged/geom_reference/shadowMask.rdr\n",
    "mintpy.load.waterMaskFile    = None\n",
    "\n",
    "mintpy.reference.lalo        = -0.30,-91.43\n",
    "mintpy.topographicResidual.stepFuncDate  = 20170910,20180613  #eruption dates\n",
    "mintpy.deramp                = linear\n",
    "'''\n",
    "\n",
    "config_file = os.path.join('/tmp/mintpy', \"FernandinaSenDT128.txt\")\n",
    "write_config_file(config_file, CONFIG_TXT, mode='w')"
   ]
  },
  {
   "cell_type": "code",
   "execution_count": null,
   "id": "68070c59-ee58-4830-b5f3-49591b7d897c",
   "metadata": {
    "scrolled": true,
    "tags": []
   },
   "outputs": [],
   "source": [
    "# View MintPy options\n",
    "!smallbaselineApp.py --help"
   ]
  },
  {
   "cell_type": "code",
   "execution_count": null,
   "id": "edac677a-d0ed-4759-8ca3-46151bf195b3",
   "metadata": {
    "scrolled": true,
    "tags": []
   },
   "outputs": [],
   "source": [
    "# Load data into MintPy\n",
    "!smallbaselineApp.py FernandinaSenDT128.txt --dostep load_data"
   ]
  },
  {
   "cell_type": "code",
   "execution_count": null,
   "id": "c07a29c8-e1ac-46fa-ab1a-155dd2f06b2a",
   "metadata": {},
   "outputs": [],
   "source": [
    "# Examine loaded inputs to MintPy\n",
    "!ls -l inputs"
   ]
  },
  {
   "cell_type": "code",
   "execution_count": null,
   "id": "a6a81f10-e8e3-47af-9122-daa3467b2422",
   "metadata": {},
   "outputs": [],
   "source": [
    "# Plot all data related to one interferometric pair using MintPy plotting utility\n",
    "view.main('./inputs/ifgramStack.h5 20180526_20180619 --ncols 3 -c viridis'.split())"
   ]
  },
  {
   "cell_type": "code",
   "execution_count": null,
   "id": "f269f331-5839-42e3-a16a-4a93a68e2e29",
   "metadata": {},
   "outputs": [],
   "source": [
    "# Examine radar geometry files\n",
    "view.main('./inputs/geometryRadar.h5 -c viridis'.split())"
   ]
  },
  {
   "cell_type": "code",
   "execution_count": null,
   "id": "d4e6015f-4ec9-4afa-bea0-367da7c2c2bd",
   "metadata": {},
   "outputs": [],
   "source": [
    "# Optional step prior to inversion. Remove interferograms based on coherence, temporal/perpendicular baselines, date, etc. \n",
    "!smallbaselineApp.py FernandinaSenDT128.txt --dostep modify_network"
   ]
  },
  {
   "cell_type": "code",
   "execution_count": null,
   "id": "368e13b4-07b7-48b5-9fa1-fcbf9e84dc22",
   "metadata": {},
   "outputs": [],
   "source": [
    "# Examine interferogram network using MintPy tool\n",
    "plot_network.main(['./inputs/ifgramStack.h5'])"
   ]
  },
  {
   "cell_type": "code",
   "execution_count": null,
   "id": "5a959245-5dbf-4beb-a13b-7a6e696777a9",
   "metadata": {},
   "outputs": [],
   "source": [
    "# Select reference point. Should be coherent and close to the aoi. \n",
    "!smallbaselineApp.py FernandinaSenDT128.txt --dostep reference_point"
   ]
  },
  {
   "cell_type": "code",
   "execution_count": null,
   "id": "7594432d-2f21-4f67-acb6-32cf13c2cb9c",
   "metadata": {},
   "outputs": [],
   "source": [
    "# Without inversion, quickly assesses possible deformation and phase unwrapping error by stacking phase \n",
    "!smallbaselineApp.py FernandinaSenDT128.txt --dostep quick_overview"
   ]
  },
  {
   "cell_type": "code",
   "execution_count": null,
   "id": "7e8783bb-dc78-4083-b67c-19c6d39494e0",
   "metadata": {},
   "outputs": [],
   "source": [
    "# Plot results of phase stacking \n",
    "view.main('avgPhaseVelocity.h5 -c RdBu -v -10 10'.split())"
   ]
  },
  {
   "cell_type": "code",
   "execution_count": null,
   "id": "29a7a280-c3cf-4588-98d0-60826934ab3a",
   "metadata": {},
   "outputs": [],
   "source": [
    "# Plot number of triplets with nonzero integer ambiguity, related to unwrapping error\n",
    "plot_num_triplet_with_nonzero_integer_ambiguity('numTriNonzeroIntAmbiguity.h5', display=True, fig_size=[12, 4])"
   ]
  },
  {
   "cell_type": "code",
   "execution_count": null,
   "id": "37329333-b737-4441-90b8-5e1665295930",
   "metadata": {},
   "outputs": [],
   "source": [
    "# Do time series inversion. \n",
    "!smallbaselineApp.py FernandinaSenDT128.txt --dostep invert_network"
   ]
  },
  {
   "cell_type": "code",
   "execution_count": null,
   "id": "2015db5a-f296-4d6b-9828-ee0a344c75f5",
   "metadata": {},
   "outputs": [],
   "source": [
    "# Plot the raw phase time-series re-wrapped into (-5, 5) cm\n",
    "view.main('timeseries.h5 --wrap --wrap-range -5 5 -u cm --notitle --notick --noaxis -c RdBu -v -5 5'.split())"
   ]
  },
  {
   "cell_type": "code",
   "execution_count": null,
   "id": "14f32901-5019-4e0b-b57d-963cc8462004",
   "metadata": {},
   "outputs": [],
   "source": [
    "# Plot time series temporal coherence and mask coherence \n",
    "# Unclear to me why border is sawtooth. Will investigate further in future\n",
    "view.main('temporalCoherence.h5 -c gray --notick --noaxis --noverbose'.split())\n",
    "view.main('maskTempCoh.h5 -c gray --notick --noaxis --noverbose'.split())"
   ]
  },
  {
   "cell_type": "code",
   "execution_count": null,
   "id": "ecdbe7f6-9e8c-4a64-9324-a9f6b2df698b",
   "metadata": {
    "scrolled": true,
    "tags": []
   },
   "outputs": [],
   "source": [
    "# Correct for tropospheric correction. Copernicus Climate Data Store (CDS) registration is needed to access ERA5 data. \n",
    "# To create account and set up api, follow steps at https://github.com/insarlab/pyaps#2-account-setup-for-era5\n",
    "###### NOTE: atmopsheric correction yielding less realistic results for this time series, step is skipped\n",
    "#!smallbaselineApp.py FernandinaSenDT128.txt --dostep correct_troposphere"
   ]
  },
  {
   "cell_type": "code",
   "execution_count": null,
   "id": "a0878937-d4da-4f9c-a648-e65b3b7ae6ba",
   "metadata": {},
   "outputs": [],
   "source": [
    "# View tropospheric corrected time series\n",
    "#view.main('timeseries_ERA5.h5 --wrap --wrap-range -5 5 --notitle --notick --noaxis -c RdBu'.split())"
   ]
  },
  {
   "cell_type": "code",
   "execution_count": null,
   "id": "d688bcaf-9748-4b7a-8ba1-f7bc9d6d065e",
   "metadata": {},
   "outputs": [],
   "source": [
    "# Remove linear or quadratic ramps based on the phase of reliable pixels. Recommended for localized deformation signals\n",
    "!smallbaselineApp.py FernandinaSenDT128.txt --dostep deramp"
   ]
  },
  {
   "cell_type": "code",
   "execution_count": null,
   "id": "914ec588-7dfe-4634-8441-b5329d52fbea",
   "metadata": {},
   "outputs": [],
   "source": [
    "# View deramped time series\n",
    "view.main('timeseries_ERA5_ramp.h5 --wrap --wrap-range -5 5 --notitle --notick --noaxis -c RdBu'.split())"
   ]
  },
  {
   "cell_type": "code",
   "execution_count": null,
   "id": "4d534b41-0e1e-4107-9d7b-33aae5aa4f0c",
   "metadata": {},
   "outputs": [],
   "source": [
    "# Correct phase residual caused by DEM error\n",
    "!smallbaselineApp.py FernandinaSenDT128.txt --dostep correct_topography"
   ]
  },
  {
   "cell_type": "code",
   "execution_count": null,
   "id": "a32aeace-096c-42ad-a57e-cae1d022c696",
   "metadata": {},
   "outputs": [],
   "source": [
    "# View DEM error-corrected time series\n",
    "view.main('timeseries_ERA5_ramp_demErr.h5 --wrap --wrap-range -5 5 --notitle --notick --noaxis -c RdBu'.split())"
   ]
  },
  {
   "cell_type": "code",
   "execution_count": null,
   "id": "92dd5479-2fe6-4a9c-b50a-8c68744adc65",
   "metadata": {
    "scrolled": true,
    "tags": []
   },
   "outputs": [],
   "source": [
    "# Calculate average velocity of time series \n",
    "!smallbaselineApp.py FernandinaSenDT128.txt --dostep velocity"
   ]
  },
  {
   "cell_type": "code",
   "execution_count": null,
   "id": "68d5225d-f9b2-4e62-8773-f279feabb4a1",
   "metadata": {},
   "outputs": [],
   "source": [
    "# View original and troposphere corrected velocities\n",
    "view.main('velocity.h5 --notick --noaxis --noverbose -c RdBu -v -5 5'.split())\n",
    "#view.main('velocityERA.h5 --notick --noaxis --noverbose -c RdBu -v -5 5'.split())"
   ]
  },
  {
   "cell_type": "code",
   "execution_count": null,
   "id": "e1f27c7e-02f6-4590-9a7c-111680213de8",
   "metadata": {
    "scrolled": true,
    "tags": []
   },
   "outputs": [],
   "source": [
    "# Geocode outputs\n",
    "!smallbaselineApp.py FernandinaSenDT128.txt --dostep geocode"
   ]
  },
  {
   "cell_type": "code",
   "execution_count": null,
   "id": "e92762b5-123b-415c-ad97-85bd60668f7f",
   "metadata": {},
   "outputs": [],
   "source": [
    "# View geocoded outputs\n",
    "!ls -l ./geo"
   ]
  },
  {
   "cell_type": "code",
   "execution_count": null,
   "id": "735439d7-3ade-413d-9d80-b3715a60a08f",
   "metadata": {},
   "outputs": [],
   "source": [
    "# Plot geocoded velocity \n",
    "view.main('./geo/geo_velocity.h5 velocity --dem ./geo/geo_geometryRadar.h5 --shade-exag 0.05 --figsize 12 12 --notitle --notick --noaxis -c RdBu -v -5 5'.split())"
   ]
  }
 ],
 "metadata": {
  "kernelspec": {
   "display_name": "Python 3 (ipykernel)",
   "language": "python",
   "name": "python3"
  },
  "language_info": {
   "codemirror_mode": {
    "name": "ipython",
    "version": 3
   },
   "file_extension": ".py",
   "mimetype": "text/x-python",
   "name": "python",
   "nbconvert_exporter": "python",
   "pygments_lexer": "ipython3",
   "version": "3.8.13"
  }
 },
 "nbformat": 4,
 "nbformat_minor": 5
}
